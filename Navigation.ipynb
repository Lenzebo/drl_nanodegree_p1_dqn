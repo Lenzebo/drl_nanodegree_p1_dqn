{
 "cells": [
  {
   "cell_type": "markdown",
   "metadata": {},
   "source": [
    "# Navigation\n",
    "\n",
    "---\n",
    "\n",
    "In this notebook, you will learn how to use the Unity ML-Agents environment for the first project of the [Deep Reinforcement Learning Nanodegree](https://www.udacity.com/course/deep-reinforcement-learning-nanodegree--nd893).\n",
    "\n",
    "### 1. Start the Environment\n",
    "\n",
    "We begin by importing some necessary packages.  If the code cell below returns an error, please revisit the project instructions to double-check that you have installed [Unity ML-Agents](https://github.com/Unity-Technologies/ml-agents/blob/master/docs/Installation.md) and [NumPy](http://www.numpy.org/)."
   ]
  },
  {
   "cell_type": "code",
   "execution_count": 1,
   "metadata": {},
   "outputs": [],
   "source": [
    "from unityagents import UnityEnvironment\n",
    "import numpy as np\n",
    "from collections import deque\n",
    "import matplotlib.pyplot as plt\n",
    "%matplotlib inline"
   ]
  },
  {
   "cell_type": "markdown",
   "metadata": {},
   "source": [
    "Next, we will start the environment!  **_Before running the code cell below_**, change the `file_name` parameter to match the location of the Unity environment that you downloaded.\n",
    "\n",
    "- **Mac**: `\"path/to/Banana.app\"`\n",
    "- **Windows** (x86): `\"path/to/Banana_Windows_x86/Banana.exe\"`\n",
    "- **Windows** (x86_64): `\"path/to/Banana_Windows_x86_64/Banana.exe\"`\n",
    "- **Linux** (x86): `\"path/to/Banana_Linux/Banana.x86\"`\n",
    "- **Linux** (x86_64): `\"path/to/Banana_Linux/Banana.x86_64\"`\n",
    "- **Linux** (x86, headless): `\"path/to/Banana_Linux_NoVis/Banana.x86\"`\n",
    "- **Linux** (x86_64, headless): `\"path/to/Banana_Linux_NoVis/Banana.x86_64\"`\n",
    "\n",
    "For instance, if you are using a Mac, then you downloaded `Banana.app`.  If this file is in the same folder as the notebook, then the line below should appear as follows:\n",
    "```\n",
    "env = UnityEnvironment(file_name=\"Banana.app\")\n",
    "```"
   ]
  },
  {
   "cell_type": "code",
   "execution_count": 2,
   "metadata": {},
   "outputs": [
    {
     "name": "stderr",
     "output_type": "stream",
     "text": [
      "INFO:unityagents:\n'Academy' started successfully!\nUnity Academy name: Academy\n        Number of Brains: 1\n        Number of External Brains : 1\n        Lesson number : 0\n        Reset Parameters :\n\t\t\nUnity brain name: BananaBrain\n        Number of Visual Observations (per agent): 0\n        Vector Observation space type: continuous\n        Vector Observation space size (per agent): 37\n        Number of stacked Vector Observation: 1\n        Vector Action space type: discrete\n        Vector Action space size (per agent): 4\n        Vector Action descriptions: , , , \n"
     ]
    }
   ],
   "source": [
    "env = UnityEnvironment(file_name=\"Banana.x86_64\")"
   ]
  },
  {
   "cell_type": "markdown",
   "metadata": {},
   "source": [
    "Environments contain **_brains_** which are responsible for deciding the actions of their associated agents. Here we check for the first brain available, and set it as the default brain we will be controlling from Python."
   ]
  },
  {
   "cell_type": "code",
   "execution_count": 3,
   "metadata": {},
   "outputs": [],
   "source": [
    "# get the default brain\n",
    "brain_name = env.brain_names[0]\n",
    "brain = env.brains[brain_name]"
   ]
  },
  {
   "cell_type": "markdown",
   "metadata": {},
   "source": [
    "### 2. Examine the State and Action Spaces\n",
    "\n",
    "The simulation contains a single agent that navigates a large environment.  At each time step, it has four actions at its disposal:\n",
    "- `0` - walk forward \n",
    "- `1` - walk backward\n",
    "- `2` - turn left\n",
    "- `3` - turn right\n",
    "\n",
    "The state space has `37` dimensions and contains the agent's velocity, along with ray-based perception of objects around agent's forward direction.  A reward of `+1` is provided for collecting a yellow banana, and a reward of `-1` is provided for collecting a blue banana. \n",
    "\n",
    "Run the code cell below to print some information about the environment."
   ]
  },
  {
   "cell_type": "code",
   "execution_count": 4,
   "metadata": {
    "collapsed": true
   },
   "outputs": [
    {
     "name": "stdout",
     "output_type": "stream",
     "text": [
      "Number of agents: 1\nNumber of actions: 4\nStates look like: [1.         0.         0.         0.         0.84408134 0.\n 0.         1.         0.         0.0748472  0.         1.\n 0.         0.         0.25755    1.         0.         0.\n 0.         0.74177343 0.         1.         0.         0.\n 0.25854847 0.         0.         1.         0.         0.09355672\n 0.         1.         0.         0.         0.31969345 0.\n 0.        ]\nStates have length: 37\n"
     ]
    }
   ],
   "source": [
    "# reset the environment\n",
    "env_info = env.reset(train_mode=True)[brain_name]\n",
    "\n",
    "# number of agents in the environment\n",
    "print('Number of agents:', len(env_info.agents))\n",
    "\n",
    "# number of actions\n",
    "action_size = brain.vector_action_space_size\n",
    "print('Number of actions:', action_size)\n",
    "\n",
    "# examine the state space \n",
    "state = env_info.vector_observations[0]\n",
    "print('States look like:', state)\n",
    "state_size = len(state)\n",
    "print('States have length:', state_size)"
   ]
  },
  {
   "cell_type": "markdown",
   "metadata": {},
   "source": [
    "### 3. Take Random Actions in the Environment\n",
    "\n",
    "In the next code cell, you will learn how to use the Python API to control the agent and receive feedback from the environment.\n",
    "\n",
    "Once this cell is executed, you will watch the agent's performance, if it selects an action (uniformly) at random with each time step.  A window should pop up that allows you to observe the agent, as it moves through the environment.  \n",
    "\n",
    "Of course, as part of the project, you'll have to change the code so that the agent is able to use its experience to gradually choose better actions when interacting with the environment!"
   ]
  },
  {
   "cell_type": "code",
   "execution_count": 5,
   "metadata": {
    "collapsed": true
   },
   "outputs": [
    {
     "name": "stdout",
     "output_type": "stream",
     "text": [
      "HyperParameter(learning_rate=0.0005, update_every=4, batch_size=64, gamma=0.99, tau=0.001)\n"
     ]
    }
   ],
   "source": [
    "from DQNAgent import Agent, HyperParameter\n",
    "from ExperienceReplayBuffer import *\n",
    "from QNetwork import QNetwork\n",
    "\n",
    "batch_size = 64\n",
    "buffer_size = 10000\n",
    "device = \"cuda:0\"\n",
    "seed = 12345\n",
    "\n",
    "params = HyperParameter(batch_size=batch_size)\n",
    "print(params)\n",
    "memory = ExperienceReplayBuffer(action_size=action_size, buffer_size=buffer_size, \n",
    "                                device=device, seed=seed)\n",
    "# memory = PrioritizedReplayBuffer(action_size=action_size, buffer_size=buffer_size, alpha=0.5,\n",
    "#                                  device=device, seed=seed)\n",
    "model = QNetwork(state_size, action_size, seed)\n",
    "agent = Agent(state_size, action_size, device, memory, model, hyperparameter = params)\n"
   ]
  },
  {
   "cell_type": "code",
   "execution_count": 6,
   "metadata": {
    "collapsed": true
   },
   "outputs": [
    {
     "name": "stdout",
     "output_type": "stream",
     "text": [
      "\rEpisode 1\tAverage Score: 0.00"
     ]
    },
    {
     "name": "stdout",
     "output_type": "stream",
     "text": [
      "\rEpisode 2\tAverage Score: 1.00"
     ]
    },
    {
     "name": "stdout",
     "output_type": "stream",
     "text": [
      "\rEpisode 3\tAverage Score: 0.33"
     ]
    },
    {
     "name": "stdout",
     "output_type": "stream",
     "text": [
      "\rEpisode 4\tAverage Score: -0.25"
     ]
    },
    {
     "name": "stdout",
     "output_type": "stream",
     "text": [
      "\rEpisode 5\tAverage Score: -0.40"
     ]
    },
    {
     "name": "stdout",
     "output_type": "stream",
     "text": [
      "\rEpisode 6\tAverage Score: -0.33"
     ]
    },
    {
     "name": "stdout",
     "output_type": "stream",
     "text": [
      "\rEpisode 7\tAverage Score: -0.29"
     ]
    },
    {
     "name": "stdout",
     "output_type": "stream",
     "text": [
      "\rEpisode 8\tAverage Score: -0.25"
     ]
    },
    {
     "name": "stdout",
     "output_type": "stream",
     "text": [
      "\rEpisode 9\tAverage Score: -0.11"
     ]
    },
    {
     "name": "stdout",
     "output_type": "stream",
     "text": [
      "\rEpisode 10\tAverage Score: -0.10"
     ]
    },
    {
     "name": "stdout",
     "output_type": "stream",
     "text": [
      "\rEpisode 11\tAverage Score: -0.09"
     ]
    },
    {
     "name": "stdout",
     "output_type": "stream",
     "text": [
      "\rEpisode 12\tAverage Score: 0.08"
     ]
    },
    {
     "name": "stdout",
     "output_type": "stream",
     "text": [
      "\rEpisode 13\tAverage Score: 0.15"
     ]
    },
    {
     "name": "stdout",
     "output_type": "stream",
     "text": [
      "\rEpisode 14\tAverage Score: 0.21"
     ]
    },
    {
     "name": "stdout",
     "output_type": "stream",
     "text": [
      "\rEpisode 15\tAverage Score: 0.20"
     ]
    },
    {
     "name": "stdout",
     "output_type": "stream",
     "text": [
      "\rEpisode 16\tAverage Score: 0.19"
     ]
    },
    {
     "name": "stdout",
     "output_type": "stream",
     "text": [
      "\rEpisode 17\tAverage Score: 0.18"
     ]
    },
    {
     "name": "stdout",
     "output_type": "stream",
     "text": [
      "\rEpisode 18\tAverage Score: 0.22"
     ]
    },
    {
     "name": "stdout",
     "output_type": "stream",
     "text": [
      "\rEpisode 19\tAverage Score: 0.21"
     ]
    },
    {
     "name": "stdout",
     "output_type": "stream",
     "text": [
      "\rEpisode 20\tAverage Score: 0.20"
     ]
    },
    {
     "name": "stdout",
     "output_type": "stream",
     "text": [
      "\rEpisode 21\tAverage Score: 0.19"
     ]
    },
    {
     "name": "stdout",
     "output_type": "stream",
     "text": [
      "\rEpisode 22\tAverage Score: 0.23"
     ]
    },
    {
     "name": "stdout",
     "output_type": "stream",
     "text": [
      "\rEpisode 23\tAverage Score: 0.26"
     ]
    },
    {
     "name": "stdout",
     "output_type": "stream",
     "text": [
      "\rEpisode 24\tAverage Score: 0.29"
     ]
    },
    {
     "name": "stdout",
     "output_type": "stream",
     "text": [
      "\rEpisode 25\tAverage Score: 0.24"
     ]
    },
    {
     "name": "stdout",
     "output_type": "stream",
     "text": [
      "\rEpisode 26\tAverage Score: 0.19"
     ]
    },
    {
     "name": "stdout",
     "output_type": "stream",
     "text": [
      "\rEpisode 27\tAverage Score: 0.19"
     ]
    },
    {
     "name": "stdout",
     "output_type": "stream",
     "text": [
      "\rEpisode 28\tAverage Score: 0.21"
     ]
    },
    {
     "name": "stdout",
     "output_type": "stream",
     "text": [
      "\rEpisode 29\tAverage Score: 0.21"
     ]
    },
    {
     "name": "stdout",
     "output_type": "stream",
     "text": [
      "\rEpisode 30\tAverage Score: 0.20"
     ]
    },
    {
     "name": "stdout",
     "output_type": "stream",
     "text": [
      "\rEpisode 31\tAverage Score: 0.19"
     ]
    },
    {
     "name": "stdout",
     "output_type": "stream",
     "text": [
      "\rEpisode 32\tAverage Score: 0.19"
     ]
    },
    {
     "name": "stdout",
     "output_type": "stream",
     "text": [
      "\rEpisode 33\tAverage Score: 0.09"
     ]
    },
    {
     "name": "stdout",
     "output_type": "stream",
     "text": [
      "\rEpisode 34\tAverage Score: 0.06"
     ]
    },
    {
     "name": "stdout",
     "output_type": "stream",
     "text": [
      "\rEpisode 35\tAverage Score: 0.03"
     ]
    },
    {
     "name": "stdout",
     "output_type": "stream",
     "text": [
      "\rEpisode 36\tAverage Score: 0.06"
     ]
    },
    {
     "name": "stdout",
     "output_type": "stream",
     "text": [
      "\rEpisode 37\tAverage Score: 0.08"
     ]
    },
    {
     "name": "stdout",
     "output_type": "stream",
     "text": [
      "\rEpisode 38\tAverage Score: 0.08"
     ]
    },
    {
     "name": "stdout",
     "output_type": "stream",
     "text": [
      "\rEpisode 39\tAverage Score: 0.10"
     ]
    },
    {
     "name": "stdout",
     "output_type": "stream",
     "text": [
      "\rEpisode 40\tAverage Score: 0.07"
     ]
    },
    {
     "name": "stdout",
     "output_type": "stream",
     "text": [
      "\rEpisode 41\tAverage Score: 0.05"
     ]
    },
    {
     "name": "stdout",
     "output_type": "stream",
     "text": [
      "\rEpisode 42\tAverage Score: 0.12"
     ]
    },
    {
     "name": "stdout",
     "output_type": "stream",
     "text": [
      "\rEpisode 43\tAverage Score: 0.12"
     ]
    },
    {
     "name": "stdout",
     "output_type": "stream",
     "text": [
      "\rEpisode 44\tAverage Score: 0.11"
     ]
    },
    {
     "name": "stdout",
     "output_type": "stream",
     "text": [
      "\rEpisode 45\tAverage Score: 0.07"
     ]
    },
    {
     "name": "stdout",
     "output_type": "stream",
     "text": [
      "\rEpisode 46\tAverage Score: 0.07"
     ]
    },
    {
     "name": "stdout",
     "output_type": "stream",
     "text": [
      "\rEpisode 47\tAverage Score: 0.13"
     ]
    },
    {
     "name": "stdout",
     "output_type": "stream",
     "text": [
      "\rEpisode 48\tAverage Score: 0.12"
     ]
    },
    {
     "name": "stdout",
     "output_type": "stream",
     "text": [
      "\rEpisode 49\tAverage Score: 0.14"
     ]
    },
    {
     "name": "stdout",
     "output_type": "stream",
     "text": [
      "\rEpisode 50\tAverage Score: 0.12"
     ]
    },
    {
     "name": "stdout",
     "output_type": "stream",
     "text": [
      "\rEpisode 51\tAverage Score: 0.16"
     ]
    },
    {
     "name": "stdout",
     "output_type": "stream",
     "text": [
      "\rEpisode 52\tAverage Score: 0.15"
     ]
    },
    {
     "name": "stdout",
     "output_type": "stream",
     "text": [
      "\rEpisode 53\tAverage Score: 0.11"
     ]
    },
    {
     "name": "stdout",
     "output_type": "stream",
     "text": [
      "\rEpisode 54\tAverage Score: 0.15"
     ]
    },
    {
     "name": "stdout",
     "output_type": "stream",
     "text": [
      "\rEpisode 55\tAverage Score: 0.16"
     ]
    },
    {
     "name": "stdout",
     "output_type": "stream",
     "text": [
      "\rEpisode 56\tAverage Score: 0.16"
     ]
    },
    {
     "name": "stdout",
     "output_type": "stream",
     "text": [
      "\rEpisode 57\tAverage Score: 0.16"
     ]
    },
    {
     "name": "stdout",
     "output_type": "stream",
     "text": [
      "\rEpisode 58\tAverage Score: 0.16"
     ]
    },
    {
     "name": "stdout",
     "output_type": "stream",
     "text": [
      "\rEpisode 59\tAverage Score: 0.15"
     ]
    },
    {
     "name": "stdout",
     "output_type": "stream",
     "text": [
      "\rEpisode 60\tAverage Score: 0.13"
     ]
    },
    {
     "name": "stdout",
     "output_type": "stream",
     "text": [
      "\rEpisode 61\tAverage Score: 0.11"
     ]
    },
    {
     "name": "stdout",
     "output_type": "stream",
     "text": [
      "\rEpisode 62\tAverage Score: 0.13"
     ]
    },
    {
     "name": "stdout",
     "output_type": "stream",
     "text": [
      "\rEpisode 63\tAverage Score: 0.13"
     ]
    },
    {
     "name": "stdout",
     "output_type": "stream",
     "text": [
      "\rEpisode 64\tAverage Score: 0.16"
     ]
    },
    {
     "name": "stdout",
     "output_type": "stream",
     "text": [
      "\rEpisode 65\tAverage Score: 0.17"
     ]
    },
    {
     "name": "stdout",
     "output_type": "stream",
     "text": [
      "\rEpisode 66\tAverage Score: 0.20"
     ]
    },
    {
     "name": "stdout",
     "output_type": "stream",
     "text": [
      "\rEpisode 67\tAverage Score: 0.22"
     ]
    },
    {
     "name": "stdout",
     "output_type": "stream",
     "text": [
      "\rEpisode 68\tAverage Score: 0.22"
     ]
    },
    {
     "name": "stdout",
     "output_type": "stream",
     "text": [
      "\rEpisode 69\tAverage Score: 0.22"
     ]
    },
    {
     "name": "stdout",
     "output_type": "stream",
     "text": [
      "\rEpisode 70\tAverage Score: 0.23"
     ]
    },
    {
     "name": "stdout",
     "output_type": "stream",
     "text": [
      "\rEpisode 71\tAverage Score: 0.23"
     ]
    },
    {
     "name": "stdout",
     "output_type": "stream",
     "text": [
      "\rEpisode 72\tAverage Score: 0.24"
     ]
    },
    {
     "name": "stdout",
     "output_type": "stream",
     "text": [
      "\rEpisode 73\tAverage Score: 0.26"
     ]
    },
    {
     "name": "stdout",
     "output_type": "stream",
     "text": [
      "\rEpisode 74\tAverage Score: 0.24"
     ]
    },
    {
     "name": "stdout",
     "output_type": "stream",
     "text": [
      "\rEpisode 75\tAverage Score: 0.23"
     ]
    },
    {
     "name": "stdout",
     "output_type": "stream",
     "text": [
      "\rEpisode 76\tAverage Score: 0.29"
     ]
    },
    {
     "name": "stdout",
     "output_type": "stream",
     "text": [
      "\rEpisode 77\tAverage Score: 0.27"
     ]
    },
    {
     "name": "stdout",
     "output_type": "stream",
     "text": [
      "\rEpisode 78\tAverage Score: 0.27"
     ]
    },
    {
     "name": "stdout",
     "output_type": "stream",
     "text": [
      "\rEpisode 79\tAverage Score: 0.32"
     ]
    },
    {
     "name": "stdout",
     "output_type": "stream",
     "text": [
      "\rEpisode 80\tAverage Score: 0.31"
     ]
    },
    {
     "name": "stdout",
     "output_type": "stream",
     "text": [
      "\rEpisode 81\tAverage Score: 0.33"
     ]
    },
    {
     "name": "stdout",
     "output_type": "stream",
     "text": [
      "\rEpisode 82\tAverage Score: 0.34"
     ]
    },
    {
     "name": "stdout",
     "output_type": "stream",
     "text": [
      "\rEpisode 83\tAverage Score: 0.33"
     ]
    },
    {
     "name": "stdout",
     "output_type": "stream",
     "text": [
      "\rEpisode 84\tAverage Score: 0.37"
     ]
    },
    {
     "name": "stdout",
     "output_type": "stream",
     "text": [
      "\rEpisode 85\tAverage Score: 0.38"
     ]
    },
    {
     "name": "stdout",
     "output_type": "stream",
     "text": [
      "\rEpisode 86\tAverage Score: 0.41"
     ]
    },
    {
     "name": "stdout",
     "output_type": "stream",
     "text": [
      "\rEpisode 87\tAverage Score: 0.40"
     ]
    },
    {
     "name": "stdout",
     "output_type": "stream",
     "text": [
      "\rEpisode 88\tAverage Score: 0.40"
     ]
    },
    {
     "name": "stdout",
     "output_type": "stream",
     "text": [
      "\rEpisode 89\tAverage Score: 0.40"
     ]
    },
    {
     "name": "stdout",
     "output_type": "stream",
     "text": [
      "\rEpisode 90\tAverage Score: 0.40"
     ]
    },
    {
     "name": "stdout",
     "output_type": "stream",
     "text": [
      "\rEpisode 91\tAverage Score: 0.40"
     ]
    },
    {
     "name": "stdout",
     "output_type": "stream",
     "text": [
      "\rEpisode 92\tAverage Score: 0.40"
     ]
    },
    {
     "name": "stdout",
     "output_type": "stream",
     "text": [
      "\rEpisode 93\tAverage Score: 0.42"
     ]
    },
    {
     "name": "stdout",
     "output_type": "stream",
     "text": [
      "\rEpisode 94\tAverage Score: 0.38"
     ]
    },
    {
     "name": "stdout",
     "output_type": "stream",
     "text": [
      "\rEpisode 95\tAverage Score: 0.43"
     ]
    },
    {
     "name": "stdout",
     "output_type": "stream",
     "text": [
      "\rEpisode 96\tAverage Score: 0.46"
     ]
    },
    {
     "name": "stdout",
     "output_type": "stream",
     "text": [
      "\rEpisode 97\tAverage Score: 0.47"
     ]
    },
    {
     "name": "stdout",
     "output_type": "stream",
     "text": [
      "\rEpisode 98\tAverage Score: 0.49"
     ]
    },
    {
     "name": "stdout",
     "output_type": "stream",
     "text": [
      "\rEpisode 99\tAverage Score: 0.53"
     ]
    },
    {
     "name": "stdout",
     "output_type": "stream",
     "text": [
      "\rEpisode 100\tAverage Score: 0.52\rEpisode 100\tAverage Score: 0.52\n"
     ]
    },
    {
     "name": "stdout",
     "output_type": "stream",
     "text": [
      "\rEpisode 101\tAverage Score: 0.53"
     ]
    },
    {
     "name": "stdout",
     "output_type": "stream",
     "text": [
      "\rEpisode 102\tAverage Score: 0.51"
     ]
    },
    {
     "name": "stdout",
     "output_type": "stream",
     "text": [
      "\rEpisode 103\tAverage Score: 0.53"
     ]
    },
    {
     "name": "stdout",
     "output_type": "stream",
     "text": [
      "\rEpisode 104\tAverage Score: 0.55"
     ]
    },
    {
     "name": "stdout",
     "output_type": "stream",
     "text": [
      "\rEpisode 105\tAverage Score: 0.57"
     ]
    },
    {
     "name": "stdout",
     "output_type": "stream",
     "text": [
      "\rEpisode 106\tAverage Score: 0.58"
     ]
    },
    {
     "name": "stdout",
     "output_type": "stream",
     "text": [
      "\rEpisode 107\tAverage Score: 0.59"
     ]
    },
    {
     "name": "stdout",
     "output_type": "stream",
     "text": [
      "\rEpisode 108\tAverage Score: 0.58"
     ]
    },
    {
     "name": "stdout",
     "output_type": "stream",
     "text": [
      "\rEpisode 109\tAverage Score: 0.61"
     ]
    },
    {
     "name": "stdout",
     "output_type": "stream",
     "text": [
      "\rEpisode 110\tAverage Score: 0.63"
     ]
    },
    {
     "name": "stdout",
     "output_type": "stream",
     "text": [
      "\rEpisode 111\tAverage Score: 0.64"
     ]
    },
    {
     "name": "stdout",
     "output_type": "stream",
     "text": [
      "\rEpisode 112\tAverage Score: 0.65"
     ]
    },
    {
     "name": "stdout",
     "output_type": "stream",
     "text": [
      "\rEpisode 113\tAverage Score: 0.66"
     ]
    },
    {
     "name": "stdout",
     "output_type": "stream",
     "text": [
      "\rEpisode 114\tAverage Score: 0.70"
     ]
    },
    {
     "name": "stdout",
     "output_type": "stream",
     "text": [
      "\rEpisode 115\tAverage Score: 0.75"
     ]
    },
    {
     "name": "stdout",
     "output_type": "stream",
     "text": [
      "\rEpisode 116\tAverage Score: 0.78"
     ]
    },
    {
     "name": "stdout",
     "output_type": "stream",
     "text": [
      "\rEpisode 117\tAverage Score: 0.77"
     ]
    },
    {
     "name": "stdout",
     "output_type": "stream",
     "text": [
      "\rEpisode 118\tAverage Score: 0.79"
     ]
    },
    {
     "name": "stdout",
     "output_type": "stream",
     "text": [
      "\rEpisode 119\tAverage Score: 0.81"
     ]
    },
    {
     "name": "stdout",
     "output_type": "stream",
     "text": [
      "\rEpisode 120\tAverage Score: 0.81"
     ]
    },
    {
     "name": "stdout",
     "output_type": "stream",
     "text": [
      "\rEpisode 121\tAverage Score: 0.83"
     ]
    },
    {
     "name": "stdout",
     "output_type": "stream",
     "text": [
      "\rEpisode 122\tAverage Score: 0.85"
     ]
    },
    {
     "name": "stdout",
     "output_type": "stream",
     "text": [
      "\rEpisode 123\tAverage Score: 0.87"
     ]
    },
    {
     "name": "stdout",
     "output_type": "stream",
     "text": [
      "\rEpisode 124\tAverage Score: 0.90"
     ]
    },
    {
     "name": "stdout",
     "output_type": "stream",
     "text": [
      "\rEpisode 125\tAverage Score: 0.96"
     ]
    },
    {
     "name": "stdout",
     "output_type": "stream",
     "text": [
      "\rEpisode 126\tAverage Score: 1.01"
     ]
    },
    {
     "name": "stdout",
     "output_type": "stream",
     "text": [
      "\rEpisode 127\tAverage Score: 1.04"
     ]
    },
    {
     "name": "stdout",
     "output_type": "stream",
     "text": [
      "\rEpisode 128\tAverage Score: 1.07"
     ]
    },
    {
     "name": "stdout",
     "output_type": "stream",
     "text": [
      "\rEpisode 129\tAverage Score: 1.07"
     ]
    },
    {
     "name": "stdout",
     "output_type": "stream",
     "text": [
      "\rEpisode 130\tAverage Score: 1.11"
     ]
    },
    {
     "name": "stdout",
     "output_type": "stream",
     "text": [
      "\rEpisode 131\tAverage Score: 1.14"
     ]
    },
    {
     "name": "stdout",
     "output_type": "stream",
     "text": [
      "\rEpisode 132\tAverage Score: 1.15"
     ]
    },
    {
     "name": "stdout",
     "output_type": "stream",
     "text": [
      "\rEpisode 133\tAverage Score: 1.22"
     ]
    },
    {
     "name": "stdout",
     "output_type": "stream",
     "text": [
      "\rEpisode 134\tAverage Score: 1.30"
     ]
    },
    {
     "name": "stdout",
     "output_type": "stream",
     "text": [
      "\rEpisode 135\tAverage Score: 1.34"
     ]
    },
    {
     "name": "stdout",
     "output_type": "stream",
     "text": [
      "\rEpisode 136\tAverage Score: 1.35"
     ]
    },
    {
     "name": "stdout",
     "output_type": "stream",
     "text": [
      "\rEpisode 137\tAverage Score: 1.37"
     ]
    },
    {
     "name": "stdout",
     "output_type": "stream",
     "text": [
      "\rEpisode 138\tAverage Score: 1.39"
     ]
    },
    {
     "name": "stdout",
     "output_type": "stream",
     "text": [
      "\rEpisode 139\tAverage Score: 1.45"
     ]
    },
    {
     "name": "stdout",
     "output_type": "stream",
     "text": [
      "\rEpisode 140\tAverage Score: 1.49"
     ]
    },
    {
     "name": "stdout",
     "output_type": "stream",
     "text": [
      "\rEpisode 141\tAverage Score: 1.54"
     ]
    },
    {
     "name": "stdout",
     "output_type": "stream",
     "text": [
      "\rEpisode 142\tAverage Score: 1.51"
     ]
    },
    {
     "name": "stdout",
     "output_type": "stream",
     "text": [
      "\rEpisode 143\tAverage Score: 1.51"
     ]
    },
    {
     "name": "stdout",
     "output_type": "stream",
     "text": [
      "\rEpisode 144\tAverage Score: 1.53"
     ]
    },
    {
     "name": "stdout",
     "output_type": "stream",
     "text": [
      "\rEpisode 145\tAverage Score: 1.58"
     ]
    },
    {
     "name": "stdout",
     "output_type": "stream",
     "text": [
      "\rEpisode 146\tAverage Score: 1.63"
     ]
    },
    {
     "name": "stdout",
     "output_type": "stream",
     "text": [
      "\rEpisode 147\tAverage Score: 1.67"
     ]
    },
    {
     "name": "stdout",
     "output_type": "stream",
     "text": [
      "\rEpisode 148\tAverage Score: 1.71"
     ]
    },
    {
     "name": "stdout",
     "output_type": "stream",
     "text": [
      "\rEpisode 149\tAverage Score: 1.73"
     ]
    },
    {
     "name": "stdout",
     "output_type": "stream",
     "text": [
      "\rEpisode 150\tAverage Score: 1.77"
     ]
    },
    {
     "name": "stdout",
     "output_type": "stream",
     "text": [
      "\rEpisode 151\tAverage Score: 1.82"
     ]
    },
    {
     "name": "stdout",
     "output_type": "stream",
     "text": [
      "\rEpisode 152\tAverage Score: 1.85"
     ]
    },
    {
     "name": "stdout",
     "output_type": "stream",
     "text": [
      "\rEpisode 153\tAverage Score: 1.90"
     ]
    },
    {
     "name": "stdout",
     "output_type": "stream",
     "text": [
      "\rEpisode 154\tAverage Score: 1.92"
     ]
    },
    {
     "name": "stdout",
     "output_type": "stream",
     "text": [
      "\rEpisode 155\tAverage Score: 1.98"
     ]
    },
    {
     "name": "stdout",
     "output_type": "stream",
     "text": [
      "\rEpisode 156\tAverage Score: 2.02"
     ]
    },
    {
     "name": "stdout",
     "output_type": "stream",
     "text": [
      "\rEpisode 157\tAverage Score: 2.03"
     ]
    },
    {
     "name": "stdout",
     "output_type": "stream",
     "text": [
      "\rEpisode 158\tAverage Score: 2.08"
     ]
    },
    {
     "name": "stdout",
     "output_type": "stream",
     "text": [
      "\rEpisode 159\tAverage Score: 2.11"
     ]
    },
    {
     "name": "stdout",
     "output_type": "stream",
     "text": [
      "\rEpisode 160\tAverage Score: 2.20"
     ]
    },
    {
     "name": "stdout",
     "output_type": "stream",
     "text": [
      "\rEpisode 161\tAverage Score: 2.26"
     ]
    },
    {
     "name": "stdout",
     "output_type": "stream",
     "text": [
      "\rEpisode 162\tAverage Score: 2.34"
     ]
    },
    {
     "name": "stdout",
     "output_type": "stream",
     "text": [
      "\rEpisode 163\tAverage Score: 2.39"
     ]
    },
    {
     "name": "stdout",
     "output_type": "stream",
     "text": [
      "\rEpisode 164\tAverage Score: 2.44"
     ]
    },
    {
     "name": "stdout",
     "output_type": "stream",
     "text": [
      "\rEpisode 165\tAverage Score: 2.51"
     ]
    },
    {
     "name": "stdout",
     "output_type": "stream",
     "text": [
      "\rEpisode 166\tAverage Score: 2.52"
     ]
    },
    {
     "name": "stdout",
     "output_type": "stream",
     "text": [
      "\rEpisode 167\tAverage Score: 2.57"
     ]
    },
    {
     "name": "stdout",
     "output_type": "stream",
     "text": [
      "\rEpisode 168\tAverage Score: 2.57"
     ]
    },
    {
     "name": "stdout",
     "output_type": "stream",
     "text": [
      "\rEpisode 169\tAverage Score: 2.61"
     ]
    },
    {
     "name": "stdout",
     "output_type": "stream",
     "text": [
      "\rEpisode 170\tAverage Score: 2.66"
     ]
    },
    {
     "name": "stdout",
     "output_type": "stream",
     "text": [
      "\rEpisode 171\tAverage Score: 2.71"
     ]
    },
    {
     "name": "stdout",
     "output_type": "stream",
     "text": [
      "\rEpisode 172\tAverage Score: 2.74"
     ]
    },
    {
     "name": "stdout",
     "output_type": "stream",
     "text": [
      "\rEpisode 173\tAverage Score: 2.79"
     ]
    },
    {
     "name": "stdout",
     "output_type": "stream",
     "text": [
      "\rEpisode 174\tAverage Score: 2.86"
     ]
    },
    {
     "name": "stdout",
     "output_type": "stream",
     "text": [
      "\rEpisode 175\tAverage Score: 2.93"
     ]
    },
    {
     "name": "stdout",
     "output_type": "stream",
     "text": [
      "\rEpisode 176\tAverage Score: 2.92"
     ]
    },
    {
     "name": "stdout",
     "output_type": "stream",
     "text": [
      "\rEpisode 177\tAverage Score: 3.02"
     ]
    },
    {
     "name": "stdout",
     "output_type": "stream",
     "text": [
      "\rEpisode 178\tAverage Score: 3.07"
     ]
    },
    {
     "name": "stdout",
     "output_type": "stream",
     "text": [
      "\rEpisode 179\tAverage Score: 3.10"
     ]
    },
    {
     "name": "stdout",
     "output_type": "stream",
     "text": [
      "\rEpisode 180\tAverage Score: 3.17"
     ]
    },
    {
     "name": "stdout",
     "output_type": "stream",
     "text": [
      "\rEpisode 181\tAverage Score: 3.19"
     ]
    },
    {
     "name": "stdout",
     "output_type": "stream",
     "text": [
      "\rEpisode 182\tAverage Score: 3.23"
     ]
    },
    {
     "name": "stdout",
     "output_type": "stream",
     "text": [
      "\rEpisode 183\tAverage Score: 3.31"
     ]
    },
    {
     "name": "stdout",
     "output_type": "stream",
     "text": [
      "\rEpisode 184\tAverage Score: 3.29"
     ]
    },
    {
     "name": "stdout",
     "output_type": "stream",
     "text": [
      "\rEpisode 185\tAverage Score: 3.32"
     ]
    },
    {
     "name": "stdout",
     "output_type": "stream",
     "text": [
      "\rEpisode 186\tAverage Score: 3.31"
     ]
    },
    {
     "name": "stdout",
     "output_type": "stream",
     "text": [
      "\rEpisode 187\tAverage Score: 3.38"
     ]
    },
    {
     "name": "stdout",
     "output_type": "stream",
     "text": [
      "\rEpisode 188\tAverage Score: 3.45"
     ]
    },
    {
     "name": "stdout",
     "output_type": "stream",
     "text": [
      "\rEpisode 189\tAverage Score: 3.51"
     ]
    },
    {
     "name": "stdout",
     "output_type": "stream",
     "text": [
      "\rEpisode 190\tAverage Score: 3.61"
     ]
    },
    {
     "name": "stdout",
     "output_type": "stream",
     "text": [
      "\rEpisode 191\tAverage Score: 3.68"
     ]
    },
    {
     "name": "stdout",
     "output_type": "stream",
     "text": [
      "\rEpisode 192\tAverage Score: 3.79"
     ]
    },
    {
     "name": "stdout",
     "output_type": "stream",
     "text": [
      "\rEpisode 193\tAverage Score: 3.83"
     ]
    },
    {
     "name": "stdout",
     "output_type": "stream",
     "text": [
      "\rEpisode 194\tAverage Score: 3.95"
     ]
    },
    {
     "name": "stdout",
     "output_type": "stream",
     "text": [
      "\rEpisode 195\tAverage Score: 3.92"
     ]
    },
    {
     "name": "stdout",
     "output_type": "stream",
     "text": [
      "\rEpisode 196\tAverage Score: 3.96"
     ]
    },
    {
     "name": "stdout",
     "output_type": "stream",
     "text": [
      "\rEpisode 197\tAverage Score: 4.01"
     ]
    },
    {
     "name": "stdout",
     "output_type": "stream",
     "text": [
      "\rEpisode 198\tAverage Score: 4.05"
     ]
    },
    {
     "name": "stdout",
     "output_type": "stream",
     "text": [
      "\rEpisode 199\tAverage Score: 4.10"
     ]
    },
    {
     "name": "stdout",
     "output_type": "stream",
     "text": [
      "\rEpisode 200\tAverage Score: 4.14\rEpisode 200\tAverage Score: 4.14\n"
     ]
    },
    {
     "name": "stdout",
     "output_type": "stream",
     "text": [
      "\rEpisode 201\tAverage Score: 4.20"
     ]
    },
    {
     "name": "stdout",
     "output_type": "stream",
     "text": [
      "\rEpisode 202\tAverage Score: 4.21"
     ]
    },
    {
     "name": "stdout",
     "output_type": "stream",
     "text": [
      "\rEpisode 203\tAverage Score: 4.25"
     ]
    },
    {
     "name": "stdout",
     "output_type": "stream",
     "text": [
      "\rEpisode 204\tAverage Score: 4.29"
     ]
    },
    {
     "name": "stdout",
     "output_type": "stream",
     "text": [
      "\rEpisode 205\tAverage Score: 4.31"
     ]
    },
    {
     "name": "stdout",
     "output_type": "stream",
     "text": [
      "\rEpisode 206\tAverage Score: 4.31"
     ]
    },
    {
     "name": "stdout",
     "output_type": "stream",
     "text": [
      "\rEpisode 207\tAverage Score: 4.37"
     ]
    },
    {
     "name": "stdout",
     "output_type": "stream",
     "text": [
      "\rEpisode 208\tAverage Score: 4.41"
     ]
    },
    {
     "name": "stdout",
     "output_type": "stream",
     "text": [
      "\rEpisode 209\tAverage Score: 4.46"
     ]
    },
    {
     "name": "stdout",
     "output_type": "stream",
     "text": [
      "\rEpisode 210\tAverage Score: 4.51"
     ]
    },
    {
     "name": "stdout",
     "output_type": "stream",
     "text": [
      "\rEpisode 211\tAverage Score: 4.50"
     ]
    },
    {
     "name": "stdout",
     "output_type": "stream",
     "text": [
      "\rEpisode 212\tAverage Score: 4.53"
     ]
    },
    {
     "name": "stdout",
     "output_type": "stream",
     "text": [
      "\rEpisode 213\tAverage Score: 4.59"
     ]
    },
    {
     "name": "stdout",
     "output_type": "stream",
     "text": [
      "\rEpisode 214\tAverage Score: 4.60"
     ]
    },
    {
     "name": "stdout",
     "output_type": "stream",
     "text": [
      "\rEpisode 215\tAverage Score: 4.59"
     ]
    },
    {
     "name": "stdout",
     "output_type": "stream",
     "text": [
      "\rEpisode 216\tAverage Score: 4.61"
     ]
    },
    {
     "name": "stdout",
     "output_type": "stream",
     "text": [
      "\rEpisode 217\tAverage Score: 4.66"
     ]
    },
    {
     "name": "stdout",
     "output_type": "stream",
     "text": [
      "\rEpisode 218\tAverage Score: 4.65"
     ]
    },
    {
     "name": "stdout",
     "output_type": "stream",
     "text": [
      "\rEpisode 219\tAverage Score: 4.69"
     ]
    },
    {
     "name": "stdout",
     "output_type": "stream",
     "text": [
      "\rEpisode 220\tAverage Score: 4.73"
     ]
    },
    {
     "name": "stdout",
     "output_type": "stream",
     "text": [
      "\rEpisode 221\tAverage Score: 4.76"
     ]
    },
    {
     "name": "stdout",
     "output_type": "stream",
     "text": [
      "\rEpisode 222\tAverage Score: 4.79"
     ]
    },
    {
     "name": "stdout",
     "output_type": "stream",
     "text": [
      "\rEpisode 223\tAverage Score: 4.77"
     ]
    },
    {
     "name": "stdout",
     "output_type": "stream",
     "text": [
      "\rEpisode 224\tAverage Score: 4.77"
     ]
    },
    {
     "name": "stdout",
     "output_type": "stream",
     "text": [
      "\rEpisode 225\tAverage Score: 4.82"
     ]
    },
    {
     "name": "stdout",
     "output_type": "stream",
     "text": [
      "\rEpisode 226\tAverage Score: 4.90"
     ]
    },
    {
     "name": "stdout",
     "output_type": "stream",
     "text": [
      "\rEpisode 227\tAverage Score: 4.92"
     ]
    },
    {
     "name": "stdout",
     "output_type": "stream",
     "text": [
      "\rEpisode 228\tAverage Score: 4.89"
     ]
    },
    {
     "name": "stdout",
     "output_type": "stream",
     "text": [
      "\rEpisode 229\tAverage Score: 4.95"
     ]
    },
    {
     "name": "stdout",
     "output_type": "stream",
     "text": [
      "\rEpisode 230\tAverage Score: 4.99"
     ]
    },
    {
     "name": "stdout",
     "output_type": "stream",
     "text": [
      "\rEpisode 231\tAverage Score: 5.02"
     ]
    },
    {
     "name": "stdout",
     "output_type": "stream",
     "text": [
      "\rEpisode 232\tAverage Score: 5.10"
     ]
    },
    {
     "name": "stdout",
     "output_type": "stream",
     "text": [
      "\rEpisode 233\tAverage Score: 5.15"
     ]
    },
    {
     "name": "stdout",
     "output_type": "stream",
     "text": [
      "\rEpisode 234\tAverage Score: 5.17"
     ]
    },
    {
     "name": "stdout",
     "output_type": "stream",
     "text": [
      "\rEpisode 235\tAverage Score: 5.23"
     ]
    },
    {
     "name": "stdout",
     "output_type": "stream",
     "text": [
      "\rEpisode 236\tAverage Score: 5.27"
     ]
    },
    {
     "name": "stdout",
     "output_type": "stream",
     "text": [
      "\rEpisode 237\tAverage Score: 5.32"
     ]
    },
    {
     "name": "stdout",
     "output_type": "stream",
     "text": [
      "\rEpisode 238\tAverage Score: 5.40"
     ]
    },
    {
     "name": "stdout",
     "output_type": "stream",
     "text": [
      "\rEpisode 239\tAverage Score: 5.37"
     ]
    },
    {
     "name": "stdout",
     "output_type": "stream",
     "text": [
      "\rEpisode 240\tAverage Score: 5.38"
     ]
    },
    {
     "name": "stdout",
     "output_type": "stream",
     "text": [
      "\rEpisode 241\tAverage Score: 5.40"
     ]
    },
    {
     "name": "stdout",
     "output_type": "stream",
     "text": [
      "\rEpisode 242\tAverage Score: 5.46"
     ]
    },
    {
     "name": "stdout",
     "output_type": "stream",
     "text": [
      "\rEpisode 243\tAverage Score: 5.50"
     ]
    },
    {
     "name": "stdout",
     "output_type": "stream",
     "text": [
      "\rEpisode 244\tAverage Score: 5.50"
     ]
    },
    {
     "name": "stdout",
     "output_type": "stream",
     "text": [
      "\rEpisode 245\tAverage Score: 5.54"
     ]
    },
    {
     "name": "stdout",
     "output_type": "stream",
     "text": [
      "\rEpisode 246\tAverage Score: 5.54"
     ]
    },
    {
     "name": "stdout",
     "output_type": "stream",
     "text": [
      "\rEpisode 247\tAverage Score: 5.55"
     ]
    },
    {
     "name": "stdout",
     "output_type": "stream",
     "text": [
      "\rEpisode 248\tAverage Score: 5.62"
     ]
    },
    {
     "name": "stdout",
     "output_type": "stream",
     "text": [
      "\rEpisode 249\tAverage Score: 5.69"
     ]
    },
    {
     "name": "stdout",
     "output_type": "stream",
     "text": [
      "\rEpisode 250\tAverage Score: 5.74"
     ]
    },
    {
     "name": "stdout",
     "output_type": "stream",
     "text": [
      "\rEpisode 251\tAverage Score: 5.76"
     ]
    },
    {
     "name": "stdout",
     "output_type": "stream",
     "text": [
      "\rEpisode 252\tAverage Score: 5.80"
     ]
    },
    {
     "name": "stdout",
     "output_type": "stream",
     "text": [
      "\rEpisode 253\tAverage Score: 5.84"
     ]
    },
    {
     "name": "stdout",
     "output_type": "stream",
     "text": [
      "\rEpisode 254\tAverage Score: 5.81"
     ]
    },
    {
     "name": "stdout",
     "output_type": "stream",
     "text": [
      "\rEpisode 255\tAverage Score: 5.77"
     ]
    },
    {
     "name": "stdout",
     "output_type": "stream",
     "text": [
      "\rEpisode 256\tAverage Score: 5.78"
     ]
    },
    {
     "name": "stdout",
     "output_type": "stream",
     "text": [
      "\rEpisode 257\tAverage Score: 5.81"
     ]
    },
    {
     "name": "stdout",
     "output_type": "stream",
     "text": [
      "\rEpisode 258\tAverage Score: 5.83"
     ]
    },
    {
     "name": "stdout",
     "output_type": "stream",
     "text": [
      "\rEpisode 259\tAverage Score: 5.89"
     ]
    },
    {
     "name": "stdout",
     "output_type": "stream",
     "text": [
      "\rEpisode 260\tAverage Score: 5.90"
     ]
    },
    {
     "name": "stdout",
     "output_type": "stream",
     "text": [
      "\rEpisode 261\tAverage Score: 5.86"
     ]
    },
    {
     "name": "stdout",
     "output_type": "stream",
     "text": [
      "\rEpisode 262\tAverage Score: 5.85"
     ]
    },
    {
     "name": "stdout",
     "output_type": "stream",
     "text": [
      "\rEpisode 263\tAverage Score: 5.85"
     ]
    },
    {
     "name": "stdout",
     "output_type": "stream",
     "text": [
      "\rEpisode 264\tAverage Score: 5.83"
     ]
    },
    {
     "name": "stdout",
     "output_type": "stream",
     "text": [
      "\rEpisode 265\tAverage Score: 5.82"
     ]
    },
    {
     "name": "stdout",
     "output_type": "stream",
     "text": [
      "\rEpisode 266\tAverage Score: 5.87"
     ]
    },
    {
     "name": "stdout",
     "output_type": "stream",
     "text": [
      "\rEpisode 267\tAverage Score: 5.82"
     ]
    },
    {
     "name": "stdout",
     "output_type": "stream",
     "text": [
      "\rEpisode 268\tAverage Score: 5.89"
     ]
    },
    {
     "name": "stdout",
     "output_type": "stream",
     "text": [
      "\rEpisode 269\tAverage Score: 5.86"
     ]
    },
    {
     "name": "stdout",
     "output_type": "stream",
     "text": [
      "\rEpisode 270\tAverage Score: 5.87"
     ]
    },
    {
     "name": "stdout",
     "output_type": "stream",
     "text": [
      "\rEpisode 271\tAverage Score: 5.84"
     ]
    },
    {
     "name": "stdout",
     "output_type": "stream",
     "text": [
      "\rEpisode 272\tAverage Score: 5.85"
     ]
    },
    {
     "name": "stdout",
     "output_type": "stream",
     "text": [
      "\rEpisode 273\tAverage Score: 5.89"
     ]
    },
    {
     "name": "stdout",
     "output_type": "stream",
     "text": [
      "\rEpisode 274\tAverage Score: 5.90"
     ]
    },
    {
     "name": "stdout",
     "output_type": "stream",
     "text": [
      "\rEpisode 275\tAverage Score: 5.90"
     ]
    },
    {
     "name": "stdout",
     "output_type": "stream",
     "text": [
      "\rEpisode 276\tAverage Score: 5.93"
     ]
    },
    {
     "name": "stdout",
     "output_type": "stream",
     "text": [
      "\rEpisode 277\tAverage Score: 5.94"
     ]
    },
    {
     "name": "stdout",
     "output_type": "stream",
     "text": [
      "\rEpisode 278\tAverage Score: 5.91"
     ]
    },
    {
     "name": "stdout",
     "output_type": "stream",
     "text": [
      "\rEpisode 279\tAverage Score: 5.85"
     ]
    },
    {
     "name": "stdout",
     "output_type": "stream",
     "text": [
      "\rEpisode 280\tAverage Score: 5.80"
     ]
    },
    {
     "name": "stdout",
     "output_type": "stream",
     "text": [
      "\rEpisode 281\tAverage Score: 5.81"
     ]
    },
    {
     "name": "stdout",
     "output_type": "stream",
     "text": [
      "\rEpisode 282\tAverage Score: 5.78"
     ]
    },
    {
     "name": "stdout",
     "output_type": "stream",
     "text": [
      "\rEpisode 283\tAverage Score: 5.76"
     ]
    },
    {
     "name": "stdout",
     "output_type": "stream",
     "text": [
      "\rEpisode 284\tAverage Score: 5.83"
     ]
    },
    {
     "name": "stdout",
     "output_type": "stream",
     "text": [
      "\rEpisode 285\tAverage Score: 5.89"
     ]
    },
    {
     "name": "stdout",
     "output_type": "stream",
     "text": [
      "\rEpisode 286\tAverage Score: 5.91"
     ]
    },
    {
     "name": "stdout",
     "output_type": "stream",
     "text": [
      "\rEpisode 287\tAverage Score: 5.89"
     ]
    },
    {
     "name": "stdout",
     "output_type": "stream",
     "text": [
      "\rEpisode 288\tAverage Score: 5.91"
     ]
    },
    {
     "name": "stdout",
     "output_type": "stream",
     "text": [
      "\rEpisode 289\tAverage Score: 5.94"
     ]
    },
    {
     "name": "stdout",
     "output_type": "stream",
     "text": [
      "\rEpisode 290\tAverage Score: 5.94"
     ]
    },
    {
     "name": "stdout",
     "output_type": "stream",
     "text": [
      "\rEpisode 291\tAverage Score: 5.97"
     ]
    },
    {
     "name": "stdout",
     "output_type": "stream",
     "text": [
      "\rEpisode 292\tAverage Score: 5.96"
     ]
    },
    {
     "name": "stdout",
     "output_type": "stream",
     "text": [
      "\rEpisode 293\tAverage Score: 6.03"
     ]
    },
    {
     "name": "stdout",
     "output_type": "stream",
     "text": [
      "\rEpisode 294\tAverage Score: 5.96"
     ]
    },
    {
     "name": "stdout",
     "output_type": "stream",
     "text": [
      "\rEpisode 295\tAverage Score: 5.98"
     ]
    },
    {
     "name": "stdout",
     "output_type": "stream",
     "text": [
      "\rEpisode 296\tAverage Score: 5.97"
     ]
    },
    {
     "name": "stdout",
     "output_type": "stream",
     "text": [
      "\rEpisode 297\tAverage Score: 5.99"
     ]
    },
    {
     "name": "stdout",
     "output_type": "stream",
     "text": [
      "\rEpisode 298\tAverage Score: 5.92"
     ]
    },
    {
     "name": "stdout",
     "output_type": "stream",
     "text": [
      "\rEpisode 299\tAverage Score: 5.91"
     ]
    },
    {
     "name": "stdout",
     "output_type": "stream",
     "text": [
      "\rEpisode 300\tAverage Score: 5.90\rEpisode 300\tAverage Score: 5.90\n"
     ]
    },
    {
     "name": "stdout",
     "output_type": "stream",
     "text": [
      "\rEpisode 301\tAverage Score: 5.87"
     ]
    },
    {
     "name": "stdout",
     "output_type": "stream",
     "text": [
      "\rEpisode 302\tAverage Score: 5.90"
     ]
    },
    {
     "name": "stdout",
     "output_type": "stream",
     "text": [
      "\rEpisode 303\tAverage Score: 5.90"
     ]
    },
    {
     "name": "stdout",
     "output_type": "stream",
     "text": [
      "\rEpisode 304\tAverage Score: 5.97"
     ]
    },
    {
     "name": "stdout",
     "output_type": "stream",
     "text": [
      "\rEpisode 305\tAverage Score: 6.03"
     ]
    },
    {
     "name": "stdout",
     "output_type": "stream",
     "text": [
      "\rEpisode 306\tAverage Score: 6.14"
     ]
    },
    {
     "name": "stdout",
     "output_type": "stream",
     "text": [
      "\rEpisode 307\tAverage Score: 6.14"
     ]
    },
    {
     "name": "stdout",
     "output_type": "stream",
     "text": [
      "\rEpisode 308\tAverage Score: 6.18"
     ]
    },
    {
     "name": "stdout",
     "output_type": "stream",
     "text": [
      "\rEpisode 309\tAverage Score: 6.14"
     ]
    },
    {
     "name": "stdout",
     "output_type": "stream",
     "text": [
      "\rEpisode 310\tAverage Score: 6.19"
     ]
    },
    {
     "name": "stdout",
     "output_type": "stream",
     "text": [
      "\rEpisode 311\tAverage Score: 6.33"
     ]
    },
    {
     "name": "stdout",
     "output_type": "stream",
     "text": [
      "\rEpisode 312\tAverage Score: 6.34"
     ]
    },
    {
     "name": "stdout",
     "output_type": "stream",
     "text": [
      "\rEpisode 313\tAverage Score: 6.35"
     ]
    },
    {
     "name": "stdout",
     "output_type": "stream",
     "text": [
      "\rEpisode 314\tAverage Score: 6.30"
     ]
    },
    {
     "name": "stdout",
     "output_type": "stream",
     "text": [
      "\rEpisode 315\tAverage Score: 6.37"
     ]
    },
    {
     "name": "stdout",
     "output_type": "stream",
     "text": [
      "\rEpisode 316\tAverage Score: 6.40"
     ]
    },
    {
     "name": "stdout",
     "output_type": "stream",
     "text": [
      "\rEpisode 317\tAverage Score: 6.48"
     ]
    },
    {
     "name": "stdout",
     "output_type": "stream",
     "text": [
      "\rEpisode 318\tAverage Score: 6.51"
     ]
    },
    {
     "name": "stdout",
     "output_type": "stream",
     "text": [
      "\rEpisode 319\tAverage Score: 6.49"
     ]
    },
    {
     "name": "stdout",
     "output_type": "stream",
     "text": [
      "\rEpisode 320\tAverage Score: 6.54"
     ]
    },
    {
     "name": "stdout",
     "output_type": "stream",
     "text": [
      "\rEpisode 321\tAverage Score: 6.58"
     ]
    },
    {
     "name": "stdout",
     "output_type": "stream",
     "text": [
      "\rEpisode 322\tAverage Score: 6.59"
     ]
    },
    {
     "name": "stdout",
     "output_type": "stream",
     "text": [
      "\rEpisode 323\tAverage Score: 6.72"
     ]
    },
    {
     "name": "stdout",
     "output_type": "stream",
     "text": [
      "\rEpisode 324\tAverage Score: 6.76"
     ]
    },
    {
     "name": "stdout",
     "output_type": "stream",
     "text": [
      "\rEpisode 325\tAverage Score: 6.71"
     ]
    },
    {
     "name": "stdout",
     "output_type": "stream",
     "text": [
      "\rEpisode 326\tAverage Score: 6.72"
     ]
    },
    {
     "name": "stdout",
     "output_type": "stream",
     "text": [
      "\rEpisode 327\tAverage Score: 6.72"
     ]
    },
    {
     "name": "stdout",
     "output_type": "stream",
     "text": [
      "\rEpisode 328\tAverage Score: 6.78"
     ]
    },
    {
     "name": "stdout",
     "output_type": "stream",
     "text": [
      "\rEpisode 329\tAverage Score: 6.76"
     ]
    },
    {
     "name": "stdout",
     "output_type": "stream",
     "text": [
      "\rEpisode 330\tAverage Score: 6.81"
     ]
    },
    {
     "name": "stdout",
     "output_type": "stream",
     "text": [
      "\rEpisode 331\tAverage Score: 6.84"
     ]
    },
    {
     "name": "stdout",
     "output_type": "stream",
     "text": [
      "\rEpisode 332\tAverage Score: 6.77"
     ]
    },
    {
     "name": "stdout",
     "output_type": "stream",
     "text": [
      "\rEpisode 333\tAverage Score: 6.76"
     ]
    },
    {
     "name": "stdout",
     "output_type": "stream",
     "text": [
      "\rEpisode 334\tAverage Score: 6.77"
     ]
    },
    {
     "name": "stdout",
     "output_type": "stream",
     "text": [
      "\rEpisode 335\tAverage Score: 6.74"
     ]
    },
    {
     "name": "stdout",
     "output_type": "stream",
     "text": [
      "\rEpisode 336\tAverage Score: 6.71"
     ]
    },
    {
     "name": "stdout",
     "output_type": "stream",
     "text": [
      "\rEpisode 337\tAverage Score: 6.74"
     ]
    },
    {
     "name": "stdout",
     "output_type": "stream",
     "text": [
      "\rEpisode 338\tAverage Score: 6.71"
     ]
    },
    {
     "name": "stdout",
     "output_type": "stream",
     "text": [
      "\rEpisode 339\tAverage Score: 6.73"
     ]
    },
    {
     "name": "stdout",
     "output_type": "stream",
     "text": [
      "\rEpisode 340\tAverage Score: 6.76"
     ]
    },
    {
     "name": "stdout",
     "output_type": "stream",
     "text": [
      "\rEpisode 341\tAverage Score: 6.76"
     ]
    },
    {
     "name": "stdout",
     "output_type": "stream",
     "text": [
      "\rEpisode 342\tAverage Score: 6.80"
     ]
    },
    {
     "name": "stdout",
     "output_type": "stream",
     "text": [
      "\rEpisode 343\tAverage Score: 6.82"
     ]
    },
    {
     "name": "stdout",
     "output_type": "stream",
     "text": [
      "\rEpisode 344\tAverage Score: 6.87"
     ]
    },
    {
     "name": "stdout",
     "output_type": "stream",
     "text": [
      "\rEpisode 345\tAverage Score: 6.90"
     ]
    },
    {
     "name": "stdout",
     "output_type": "stream",
     "text": [
      "\rEpisode 346\tAverage Score: 6.86"
     ]
    },
    {
     "name": "stdout",
     "output_type": "stream",
     "text": [
      "\rEpisode 347\tAverage Score: 6.81"
     ]
    },
    {
     "name": "stdout",
     "output_type": "stream",
     "text": [
      "\rEpisode 348\tAverage Score: 6.77"
     ]
    },
    {
     "name": "stdout",
     "output_type": "stream",
     "text": [
      "\rEpisode 349\tAverage Score: 6.75"
     ]
    },
    {
     "name": "stdout",
     "output_type": "stream",
     "text": [
      "\rEpisode 350\tAverage Score: 6.74"
     ]
    },
    {
     "name": "stdout",
     "output_type": "stream",
     "text": [
      "\rEpisode 351\tAverage Score: 6.73"
     ]
    },
    {
     "name": "stdout",
     "output_type": "stream",
     "text": [
      "\rEpisode 352\tAverage Score: 6.74"
     ]
    },
    {
     "name": "stdout",
     "output_type": "stream",
     "text": [
      "\rEpisode 353\tAverage Score: 6.77"
     ]
    },
    {
     "name": "stdout",
     "output_type": "stream",
     "text": [
      "\rEpisode 354\tAverage Score: 6.81"
     ]
    },
    {
     "name": "stdout",
     "output_type": "stream",
     "text": [
      "\rEpisode 355\tAverage Score: 6.88"
     ]
    },
    {
     "name": "stdout",
     "output_type": "stream",
     "text": [
      "\rEpisode 356\tAverage Score: 6.88"
     ]
    },
    {
     "name": "stdout",
     "output_type": "stream",
     "text": [
      "\rEpisode 357\tAverage Score: 6.91"
     ]
    },
    {
     "name": "stdout",
     "output_type": "stream",
     "text": [
      "\rEpisode 358\tAverage Score: 6.95"
     ]
    },
    {
     "name": "stdout",
     "output_type": "stream",
     "text": [
      "\rEpisode 359\tAverage Score: 6.99"
     ]
    },
    {
     "name": "stdout",
     "output_type": "stream",
     "text": [
      "\rEpisode 360\tAverage Score: 6.97"
     ]
    },
    {
     "name": "stdout",
     "output_type": "stream",
     "text": [
      "\rEpisode 361\tAverage Score: 7.00"
     ]
    },
    {
     "name": "stdout",
     "output_type": "stream",
     "text": [
      "\rEpisode 362\tAverage Score: 7.01"
     ]
    },
    {
     "name": "stdout",
     "output_type": "stream",
     "text": [
      "\rEpisode 363\tAverage Score: 7.06"
     ]
    },
    {
     "name": "stdout",
     "output_type": "stream",
     "text": [
      "\rEpisode 364\tAverage Score: 7.03"
     ]
    },
    {
     "name": "stdout",
     "output_type": "stream",
     "text": [
      "\rEpisode 365\tAverage Score: 7.07"
     ]
    },
    {
     "name": "stdout",
     "output_type": "stream",
     "text": [
      "\rEpisode 366\tAverage Score: 7.07"
     ]
    },
    {
     "name": "stdout",
     "output_type": "stream",
     "text": [
      "\rEpisode 367\tAverage Score: 7.11"
     ]
    },
    {
     "name": "stdout",
     "output_type": "stream",
     "text": [
      "\rEpisode 368\tAverage Score: 7.12"
     ]
    },
    {
     "name": "stdout",
     "output_type": "stream",
     "text": [
      "\rEpisode 369\tAverage Score: 7.18"
     ]
    },
    {
     "name": "stdout",
     "output_type": "stream",
     "text": [
      "\rEpisode 370\tAverage Score: 7.17"
     ]
    },
    {
     "name": "stdout",
     "output_type": "stream",
     "text": [
      "\rEpisode 371\tAverage Score: 7.26"
     ]
    },
    {
     "name": "stdout",
     "output_type": "stream",
     "text": [
      "\rEpisode 372\tAverage Score: 7.32"
     ]
    },
    {
     "name": "stdout",
     "output_type": "stream",
     "text": [
      "\rEpisode 373\tAverage Score: 7.34"
     ]
    },
    {
     "name": "stdout",
     "output_type": "stream",
     "text": [
      "\rEpisode 374\tAverage Score: 7.35"
     ]
    },
    {
     "name": "stdout",
     "output_type": "stream",
     "text": [
      "\rEpisode 375\tAverage Score: 7.40"
     ]
    },
    {
     "name": "stdout",
     "output_type": "stream",
     "text": [
      "\rEpisode 376\tAverage Score: 7.44"
     ]
    },
    {
     "name": "stdout",
     "output_type": "stream",
     "text": [
      "\rEpisode 377\tAverage Score: 7.39"
     ]
    },
    {
     "name": "stdout",
     "output_type": "stream",
     "text": [
      "\rEpisode 378\tAverage Score: 7.45"
     ]
    },
    {
     "name": "stdout",
     "output_type": "stream",
     "text": [
      "\rEpisode 379\tAverage Score: 7.54"
     ]
    },
    {
     "name": "stdout",
     "output_type": "stream",
     "text": [
      "\rEpisode 380\tAverage Score: 7.63"
     ]
    },
    {
     "name": "stdout",
     "output_type": "stream",
     "text": [
      "\rEpisode 381\tAverage Score: 7.69"
     ]
    },
    {
     "name": "stdout",
     "output_type": "stream",
     "text": [
      "\rEpisode 382\tAverage Score: 7.75"
     ]
    },
    {
     "name": "stdout",
     "output_type": "stream",
     "text": [
      "\rEpisode 383\tAverage Score: 7.78"
     ]
    },
    {
     "name": "stdout",
     "output_type": "stream",
     "text": [
      "\rEpisode 384\tAverage Score: 7.77"
     ]
    },
    {
     "name": "stdout",
     "output_type": "stream",
     "text": [
      "\rEpisode 385\tAverage Score: 7.79"
     ]
    },
    {
     "name": "stdout",
     "output_type": "stream",
     "text": [
      "\rEpisode 386\tAverage Score: 7.84"
     ]
    },
    {
     "name": "stdout",
     "output_type": "stream",
     "text": [
      "\rEpisode 387\tAverage Score: 7.92"
     ]
    },
    {
     "name": "stdout",
     "output_type": "stream",
     "text": [
      "\rEpisode 388\tAverage Score: 7.88"
     ]
    },
    {
     "name": "stdout",
     "output_type": "stream",
     "text": [
      "\rEpisode 389\tAverage Score: 7.84"
     ]
    },
    {
     "name": "stdout",
     "output_type": "stream",
     "text": [
      "\rEpisode 390\tAverage Score: 7.82"
     ]
    },
    {
     "name": "stdout",
     "output_type": "stream",
     "text": [
      "\rEpisode 391\tAverage Score: 7.83"
     ]
    },
    {
     "name": "stdout",
     "output_type": "stream",
     "text": [
      "\rEpisode 392\tAverage Score: 7.80"
     ]
    },
    {
     "name": "stdout",
     "output_type": "stream",
     "text": [
      "\rEpisode 393\tAverage Score: 7.77"
     ]
    },
    {
     "name": "stdout",
     "output_type": "stream",
     "text": [
      "\rEpisode 394\tAverage Score: 7.82"
     ]
    },
    {
     "name": "stdout",
     "output_type": "stream",
     "text": [
      "\rEpisode 395\tAverage Score: 7.90"
     ]
    },
    {
     "name": "stdout",
     "output_type": "stream",
     "text": [
      "\rEpisode 396\tAverage Score: 7.98"
     ]
    },
    {
     "name": "stdout",
     "output_type": "stream",
     "text": [
      "\rEpisode 397\tAverage Score: 7.94"
     ]
    },
    {
     "name": "stdout",
     "output_type": "stream",
     "text": [
      "\rEpisode 398\tAverage Score: 8.03"
     ]
    },
    {
     "name": "stdout",
     "output_type": "stream",
     "text": [
      "\rEpisode 399\tAverage Score: 8.05"
     ]
    },
    {
     "name": "stdout",
     "output_type": "stream",
     "text": [
      "\rEpisode 400\tAverage Score: 8.14\rEpisode 400\tAverage Score: 8.14\n"
     ]
    },
    {
     "name": "stdout",
     "output_type": "stream",
     "text": [
      "\rEpisode 401\tAverage Score: 8.21"
     ]
    },
    {
     "name": "stdout",
     "output_type": "stream",
     "text": [
      "\rEpisode 402\tAverage Score: 8.31"
     ]
    },
    {
     "name": "stdout",
     "output_type": "stream",
     "text": [
      "\rEpisode 403\tAverage Score: 8.36"
     ]
    },
    {
     "name": "stdout",
     "output_type": "stream",
     "text": [
      "\rEpisode 404\tAverage Score: 8.32"
     ]
    },
    {
     "name": "stdout",
     "output_type": "stream",
     "text": [
      "\rEpisode 405\tAverage Score: 8.37"
     ]
    },
    {
     "name": "stdout",
     "output_type": "stream",
     "text": [
      "\rEpisode 406\tAverage Score: 8.38"
     ]
    },
    {
     "name": "stdout",
     "output_type": "stream",
     "text": [
      "\rEpisode 407\tAverage Score: 8.42"
     ]
    },
    {
     "name": "stdout",
     "output_type": "stream",
     "text": [
      "\rEpisode 408\tAverage Score: 8.47"
     ]
    },
    {
     "name": "stdout",
     "output_type": "stream",
     "text": [
      "\rEpisode 409\tAverage Score: 8.51"
     ]
    },
    {
     "name": "stdout",
     "output_type": "stream",
     "text": [
      "\rEpisode 410\tAverage Score: 8.51"
     ]
    },
    {
     "name": "stdout",
     "output_type": "stream",
     "text": [
      "\rEpisode 411\tAverage Score: 8.41"
     ]
    },
    {
     "name": "stdout",
     "output_type": "stream",
     "text": [
      "\rEpisode 412\tAverage Score: 8.51"
     ]
    },
    {
     "name": "stdout",
     "output_type": "stream",
     "text": [
      "\rEpisode 413\tAverage Score: 8.51"
     ]
    },
    {
     "name": "stdout",
     "output_type": "stream",
     "text": [
      "\rEpisode 414\tAverage Score: 8.59"
     ]
    },
    {
     "name": "stdout",
     "output_type": "stream",
     "text": [
      "\rEpisode 415\tAverage Score: 8.58"
     ]
    },
    {
     "name": "stdout",
     "output_type": "stream",
     "text": [
      "\rEpisode 416\tAverage Score: 8.56"
     ]
    },
    {
     "name": "stdout",
     "output_type": "stream",
     "text": [
      "\rEpisode 417\tAverage Score: 8.56"
     ]
    },
    {
     "name": "stdout",
     "output_type": "stream",
     "text": [
      "\rEpisode 418\tAverage Score: 8.63"
     ]
    },
    {
     "name": "stdout",
     "output_type": "stream",
     "text": [
      "\rEpisode 419\tAverage Score: 8.72"
     ]
    },
    {
     "name": "stdout",
     "output_type": "stream",
     "text": [
      "\rEpisode 420\tAverage Score: 8.73"
     ]
    },
    {
     "name": "stdout",
     "output_type": "stream",
     "text": [
      "\rEpisode 421\tAverage Score: 8.74"
     ]
    },
    {
     "name": "stdout",
     "output_type": "stream",
     "text": [
      "\rEpisode 422\tAverage Score: 8.81"
     ]
    },
    {
     "name": "stdout",
     "output_type": "stream",
     "text": [
      "\rEpisode 423\tAverage Score: 8.75"
     ]
    },
    {
     "name": "stdout",
     "output_type": "stream",
     "text": [
      "\rEpisode 424\tAverage Score: 8.77"
     ]
    },
    {
     "name": "stdout",
     "output_type": "stream",
     "text": [
      "\rEpisode 425\tAverage Score: 8.83"
     ]
    },
    {
     "name": "stdout",
     "output_type": "stream",
     "text": [
      "\rEpisode 426\tAverage Score: 8.80"
     ]
    },
    {
     "name": "stdout",
     "output_type": "stream",
     "text": [
      "\rEpisode 427\tAverage Score: 8.87"
     ]
    },
    {
     "name": "stdout",
     "output_type": "stream",
     "text": [
      "\rEpisode 428\tAverage Score: 8.98"
     ]
    },
    {
     "name": "stdout",
     "output_type": "stream",
     "text": [
      "\rEpisode 429\tAverage Score: 9.03"
     ]
    },
    {
     "name": "stdout",
     "output_type": "stream",
     "text": [
      "\rEpisode 430\tAverage Score: 9.01"
     ]
    },
    {
     "name": "stdout",
     "output_type": "stream",
     "text": [
      "\rEpisode 431\tAverage Score: 9.02"
     ]
    },
    {
     "name": "stdout",
     "output_type": "stream",
     "text": [
      "\rEpisode 432\tAverage Score: 9.04"
     ]
    },
    {
     "name": "stdout",
     "output_type": "stream",
     "text": [
      "\rEpisode 433\tAverage Score: 9.07"
     ]
    },
    {
     "name": "stdout",
     "output_type": "stream",
     "text": [
      "\rEpisode 434\tAverage Score: 9.02"
     ]
    },
    {
     "name": "stdout",
     "output_type": "stream",
     "text": [
      "\rEpisode 435\tAverage Score: 9.10"
     ]
    },
    {
     "name": "stdout",
     "output_type": "stream",
     "text": [
      "\rEpisode 436\tAverage Score: 9.20"
     ]
    },
    {
     "name": "stdout",
     "output_type": "stream",
     "text": [
      "\rEpisode 437\tAverage Score: 9.22"
     ]
    },
    {
     "name": "stdout",
     "output_type": "stream",
     "text": [
      "\rEpisode 438\tAverage Score: 9.23"
     ]
    },
    {
     "name": "stdout",
     "output_type": "stream",
     "text": [
      "\rEpisode 439\tAverage Score: 9.27"
     ]
    },
    {
     "name": "stdout",
     "output_type": "stream",
     "text": [
      "\rEpisode 440\tAverage Score: 9.34"
     ]
    },
    {
     "name": "stdout",
     "output_type": "stream",
     "text": [
      "\rEpisode 441\tAverage Score: 9.32"
     ]
    },
    {
     "name": "stdout",
     "output_type": "stream",
     "text": [
      "\rEpisode 442\tAverage Score: 9.40"
     ]
    },
    {
     "name": "stdout",
     "output_type": "stream",
     "text": [
      "\rEpisode 443\tAverage Score: 9.42"
     ]
    },
    {
     "name": "stdout",
     "output_type": "stream",
     "text": [
      "\rEpisode 444\tAverage Score: 9.44"
     ]
    },
    {
     "name": "stdout",
     "output_type": "stream",
     "text": [
      "\rEpisode 445\tAverage Score: 9.40"
     ]
    },
    {
     "name": "stdout",
     "output_type": "stream",
     "text": [
      "\rEpisode 446\tAverage Score: 9.47"
     ]
    },
    {
     "name": "stdout",
     "output_type": "stream",
     "text": [
      "\rEpisode 447\tAverage Score: 9.53"
     ]
    },
    {
     "name": "stdout",
     "output_type": "stream",
     "text": [
      "\rEpisode 448\tAverage Score: 9.56"
     ]
    },
    {
     "name": "stdout",
     "output_type": "stream",
     "text": [
      "\rEpisode 449\tAverage Score: 9.63"
     ]
    },
    {
     "name": "stdout",
     "output_type": "stream",
     "text": [
      "\rEpisode 450\tAverage Score: 9.65"
     ]
    },
    {
     "name": "stdout",
     "output_type": "stream",
     "text": [
      "\rEpisode 451\tAverage Score: 9.68"
     ]
    },
    {
     "name": "stdout",
     "output_type": "stream",
     "text": [
      "\rEpisode 452\tAverage Score: 9.66"
     ]
    },
    {
     "name": "stdout",
     "output_type": "stream",
     "text": [
      "\rEpisode 453\tAverage Score: 9.67"
     ]
    },
    {
     "name": "stdout",
     "output_type": "stream",
     "text": [
      "\rEpisode 454\tAverage Score: 9.79"
     ]
    },
    {
     "name": "stdout",
     "output_type": "stream",
     "text": [
      "\rEpisode 455\tAverage Score: 9.78"
     ]
    },
    {
     "name": "stdout",
     "output_type": "stream",
     "text": [
      "\rEpisode 456\tAverage Score: 9.87"
     ]
    },
    {
     "name": "stdout",
     "output_type": "stream",
     "text": [
      "\rEpisode 457\tAverage Score: 9.89"
     ]
    },
    {
     "name": "stdout",
     "output_type": "stream",
     "text": [
      "\rEpisode 458\tAverage Score: 9.87"
     ]
    },
    {
     "name": "stdout",
     "output_type": "stream",
     "text": [
      "\rEpisode 459\tAverage Score: 9.85"
     ]
    },
    {
     "name": "stdout",
     "output_type": "stream",
     "text": [
      "\rEpisode 460\tAverage Score: 9.89"
     ]
    },
    {
     "name": "stdout",
     "output_type": "stream",
     "text": [
      "\rEpisode 461\tAverage Score: 9.89"
     ]
    },
    {
     "name": "stdout",
     "output_type": "stream",
     "text": [
      "\rEpisode 462\tAverage Score: 9.89"
     ]
    },
    {
     "name": "stdout",
     "output_type": "stream",
     "text": [
      "\rEpisode 463\tAverage Score: 9.84"
     ]
    },
    {
     "name": "stdout",
     "output_type": "stream",
     "text": [
      "\rEpisode 464\tAverage Score: 9.87"
     ]
    },
    {
     "name": "stdout",
     "output_type": "stream",
     "text": [
      "\rEpisode 465\tAverage Score: 9.92"
     ]
    },
    {
     "name": "stdout",
     "output_type": "stream",
     "text": [
      "\rEpisode 466\tAverage Score: 9.94"
     ]
    },
    {
     "name": "stdout",
     "output_type": "stream",
     "text": [
      "\rEpisode 467\tAverage Score: 10.05"
     ]
    },
    {
     "name": "stdout",
     "output_type": "stream",
     "text": [
      "\rEpisode 468\tAverage Score: 10.06"
     ]
    },
    {
     "name": "stdout",
     "output_type": "stream",
     "text": [
      "\rEpisode 469\tAverage Score: 10.12"
     ]
    },
    {
     "name": "stdout",
     "output_type": "stream",
     "text": [
      "\rEpisode 470\tAverage Score: 10.13"
     ]
    },
    {
     "name": "stdout",
     "output_type": "stream",
     "text": [
      "\rEpisode 471\tAverage Score: 10.18"
     ]
    },
    {
     "name": "stdout",
     "output_type": "stream",
     "text": [
      "\rEpisode 472\tAverage Score: 10.08"
     ]
    },
    {
     "name": "stdout",
     "output_type": "stream",
     "text": [
      "\rEpisode 473\tAverage Score: 10.07"
     ]
    },
    {
     "name": "stdout",
     "output_type": "stream",
     "text": [
      "\rEpisode 474\tAverage Score: 10.11"
     ]
    },
    {
     "name": "stdout",
     "output_type": "stream",
     "text": [
      "\rEpisode 475\tAverage Score: 10.09"
     ]
    },
    {
     "name": "stdout",
     "output_type": "stream",
     "text": [
      "\rEpisode 476\tAverage Score: 10.06"
     ]
    },
    {
     "name": "stdout",
     "output_type": "stream",
     "text": [
      "\rEpisode 477\tAverage Score: 10.09"
     ]
    },
    {
     "name": "stdout",
     "output_type": "stream",
     "text": [
      "\rEpisode 478\tAverage Score: 10.12"
     ]
    },
    {
     "name": "stdout",
     "output_type": "stream",
     "text": [
      "\rEpisode 479\tAverage Score: 10.15"
     ]
    },
    {
     "name": "stdout",
     "output_type": "stream",
     "text": [
      "\rEpisode 480\tAverage Score: 10.14"
     ]
    },
    {
     "name": "stdout",
     "output_type": "stream",
     "text": [
      "\rEpisode 481\tAverage Score: 10.13"
     ]
    },
    {
     "name": "stdout",
     "output_type": "stream",
     "text": [
      "\rEpisode 482\tAverage Score: 10.18"
     ]
    },
    {
     "name": "stdout",
     "output_type": "stream",
     "text": [
      "\rEpisode 483\tAverage Score: 10.28"
     ]
    },
    {
     "name": "stdout",
     "output_type": "stream",
     "text": [
      "\rEpisode 484\tAverage Score: 10.35"
     ]
    },
    {
     "name": "stdout",
     "output_type": "stream",
     "text": [
      "\rEpisode 485\tAverage Score: 10.37"
     ]
    },
    {
     "name": "stdout",
     "output_type": "stream",
     "text": [
      "\rEpisode 486\tAverage Score: 10.40"
     ]
    },
    {
     "name": "stdout",
     "output_type": "stream",
     "text": [
      "\rEpisode 487\tAverage Score: 10.30"
     ]
    },
    {
     "name": "stdout",
     "output_type": "stream",
     "text": [
      "\rEpisode 488\tAverage Score: 10.35"
     ]
    },
    {
     "name": "stdout",
     "output_type": "stream",
     "text": [
      "\rEpisode 489\tAverage Score: 10.45"
     ]
    },
    {
     "name": "stdout",
     "output_type": "stream",
     "text": [
      "\rEpisode 490\tAverage Score: 10.48"
     ]
    },
    {
     "name": "stdout",
     "output_type": "stream",
     "text": [
      "\rEpisode 491\tAverage Score: 10.44"
     ]
    },
    {
     "name": "stdout",
     "output_type": "stream",
     "text": [
      "\rEpisode 492\tAverage Score: 10.44"
     ]
    },
    {
     "name": "stdout",
     "output_type": "stream",
     "text": [
      "\rEpisode 493\tAverage Score: 10.49"
     ]
    },
    {
     "name": "stdout",
     "output_type": "stream",
     "text": [
      "\rEpisode 494\tAverage Score: 10.48"
     ]
    },
    {
     "name": "stdout",
     "output_type": "stream",
     "text": [
      "\rEpisode 495\tAverage Score: 10.50"
     ]
    },
    {
     "name": "stdout",
     "output_type": "stream",
     "text": [
      "\rEpisode 496\tAverage Score: 10.45"
     ]
    },
    {
     "name": "stdout",
     "output_type": "stream",
     "text": [
      "\rEpisode 497\tAverage Score: 10.59"
     ]
    },
    {
     "name": "stdout",
     "output_type": "stream",
     "text": [
      "\rEpisode 498\tAverage Score: 10.57"
     ]
    },
    {
     "name": "stdout",
     "output_type": "stream",
     "text": [
      "\rEpisode 499\tAverage Score: 10.60"
     ]
    },
    {
     "name": "stdout",
     "output_type": "stream",
     "text": [
      "\rEpisode 500\tAverage Score: 10.58\rEpisode 500\tAverage Score: 10.58\n"
     ]
    },
    {
     "name": "stdout",
     "output_type": "stream",
     "text": [
      "\rEpisode 501\tAverage Score: 10.64"
     ]
    },
    {
     "name": "stdout",
     "output_type": "stream",
     "text": [
      "\rEpisode 502\tAverage Score: 10.54"
     ]
    },
    {
     "name": "stdout",
     "output_type": "stream",
     "text": [
      "\rEpisode 503\tAverage Score: 10.56"
     ]
    },
    {
     "name": "stdout",
     "output_type": "stream",
     "text": [
      "\rEpisode 504\tAverage Score: 10.59"
     ]
    },
    {
     "name": "stdout",
     "output_type": "stream",
     "text": [
      "\rEpisode 505\tAverage Score: 10.58"
     ]
    },
    {
     "name": "stdout",
     "output_type": "stream",
     "text": [
      "\rEpisode 506\tAverage Score: 10.51"
     ]
    },
    {
     "name": "stdout",
     "output_type": "stream",
     "text": [
      "\rEpisode 507\tAverage Score: 10.53"
     ]
    },
    {
     "name": "stdout",
     "output_type": "stream",
     "text": [
      "\rEpisode 508\tAverage Score: 10.58"
     ]
    },
    {
     "name": "stdout",
     "output_type": "stream",
     "text": [
      "\rEpisode 509\tAverage Score: 10.57"
     ]
    },
    {
     "name": "stdout",
     "output_type": "stream",
     "text": [
      "\rEpisode 510\tAverage Score: 10.56"
     ]
    },
    {
     "name": "stdout",
     "output_type": "stream",
     "text": [
      "\rEpisode 511\tAverage Score: 10.65"
     ]
    },
    {
     "name": "stdout",
     "output_type": "stream",
     "text": [
      "\rEpisode 512\tAverage Score: 10.61"
     ]
    },
    {
     "name": "stdout",
     "output_type": "stream",
     "text": [
      "\rEpisode 513\tAverage Score: 10.60"
     ]
    },
    {
     "name": "stdout",
     "output_type": "stream",
     "text": [
      "\rEpisode 514\tAverage Score: 10.69"
     ]
    },
    {
     "name": "stdout",
     "output_type": "stream",
     "text": [
      "\rEpisode 515\tAverage Score: 10.71"
     ]
    },
    {
     "name": "stdout",
     "output_type": "stream",
     "text": [
      "\rEpisode 516\tAverage Score: 10.76"
     ]
    },
    {
     "name": "stdout",
     "output_type": "stream",
     "text": [
      "\rEpisode 517\tAverage Score: 10.73"
     ]
    },
    {
     "name": "stdout",
     "output_type": "stream",
     "text": [
      "\rEpisode 518\tAverage Score: 10.71"
     ]
    },
    {
     "name": "stdout",
     "output_type": "stream",
     "text": [
      "\rEpisode 519\tAverage Score: 10.65"
     ]
    },
    {
     "name": "stdout",
     "output_type": "stream",
     "text": [
      "\rEpisode 520\tAverage Score: 10.69"
     ]
    },
    {
     "name": "stdout",
     "output_type": "stream",
     "text": [
      "\rEpisode 521\tAverage Score: 10.67"
     ]
    },
    {
     "name": "stdout",
     "output_type": "stream",
     "text": [
      "\rEpisode 522\tAverage Score: 10.69"
     ]
    },
    {
     "name": "stdout",
     "output_type": "stream",
     "text": [
      "\rEpisode 523\tAverage Score: 10.70"
     ]
    },
    {
     "name": "stdout",
     "output_type": "stream",
     "text": [
      "\rEpisode 524\tAverage Score: 10.71"
     ]
    },
    {
     "name": "stdout",
     "output_type": "stream",
     "text": [
      "\rEpisode 525\tAverage Score: 10.71"
     ]
    },
    {
     "name": "stdout",
     "output_type": "stream",
     "text": [
      "\rEpisode 526\tAverage Score: 10.73"
     ]
    },
    {
     "name": "stdout",
     "output_type": "stream",
     "text": [
      "\rEpisode 527\tAverage Score: 10.74"
     ]
    },
    {
     "name": "stdout",
     "output_type": "stream",
     "text": [
      "\rEpisode 528\tAverage Score: 10.74"
     ]
    },
    {
     "name": "stdout",
     "output_type": "stream",
     "text": [
      "\rEpisode 529\tAverage Score: 10.73"
     ]
    },
    {
     "name": "stdout",
     "output_type": "stream",
     "text": [
      "\rEpisode 530\tAverage Score: 10.75"
     ]
    },
    {
     "name": "stdout",
     "output_type": "stream",
     "text": [
      "\rEpisode 531\tAverage Score: 10.77"
     ]
    },
    {
     "name": "stdout",
     "output_type": "stream",
     "text": [
      "\rEpisode 532\tAverage Score: 10.83"
     ]
    },
    {
     "name": "stdout",
     "output_type": "stream",
     "text": [
      "\rEpisode 533\tAverage Score: 10.90"
     ]
    },
    {
     "name": "stdout",
     "output_type": "stream",
     "text": [
      "\rEpisode 534\tAverage Score: 10.94"
     ]
    },
    {
     "name": "stdout",
     "output_type": "stream",
     "text": [
      "\rEpisode 535\tAverage Score: 10.90"
     ]
    },
    {
     "name": "stdout",
     "output_type": "stream",
     "text": [
      "\rEpisode 536\tAverage Score: 10.84"
     ]
    },
    {
     "name": "stdout",
     "output_type": "stream",
     "text": [
      "\rEpisode 537\tAverage Score: 10.87"
     ]
    },
    {
     "name": "stdout",
     "output_type": "stream",
     "text": [
      "\rEpisode 538\tAverage Score: 10.80"
     ]
    },
    {
     "name": "stdout",
     "output_type": "stream",
     "text": [
      "\rEpisode 539\tAverage Score: 10.82"
     ]
    },
    {
     "name": "stdout",
     "output_type": "stream",
     "text": [
      "\rEpisode 540\tAverage Score: 10.72"
     ]
    },
    {
     "name": "stdout",
     "output_type": "stream",
     "text": [
      "\rEpisode 541\tAverage Score: 10.75"
     ]
    },
    {
     "name": "stdout",
     "output_type": "stream",
     "text": [
      "\rEpisode 542\tAverage Score: 10.68"
     ]
    },
    {
     "name": "stdout",
     "output_type": "stream",
     "text": [
      "\rEpisode 543\tAverage Score: 10.72"
     ]
    },
    {
     "name": "stdout",
     "output_type": "stream",
     "text": [
      "\rEpisode 544\tAverage Score: 10.73"
     ]
    },
    {
     "name": "stdout",
     "output_type": "stream",
     "text": [
      "\rEpisode 545\tAverage Score: 10.77"
     ]
    },
    {
     "name": "stdout",
     "output_type": "stream",
     "text": [
      "\rEpisode 546\tAverage Score: 10.75"
     ]
    },
    {
     "name": "stdout",
     "output_type": "stream",
     "text": [
      "\rEpisode 547\tAverage Score: 10.76"
     ]
    },
    {
     "name": "stdout",
     "output_type": "stream",
     "text": [
      "\rEpisode 548\tAverage Score: 10.78"
     ]
    },
    {
     "name": "stdout",
     "output_type": "stream",
     "text": [
      "\rEpisode 549\tAverage Score: 10.76"
     ]
    },
    {
     "name": "stdout",
     "output_type": "stream",
     "text": [
      "\rEpisode 550\tAverage Score: 10.81"
     ]
    },
    {
     "name": "stdout",
     "output_type": "stream",
     "text": [
      "\rEpisode 551\tAverage Score: 10.80"
     ]
    },
    {
     "name": "stdout",
     "output_type": "stream",
     "text": [
      "\rEpisode 552\tAverage Score: 10.85"
     ]
    },
    {
     "name": "stdout",
     "output_type": "stream",
     "text": [
      "\rEpisode 553\tAverage Score: 10.85"
     ]
    },
    {
     "name": "stdout",
     "output_type": "stream",
     "text": [
      "\rEpisode 554\tAverage Score: 10.72"
     ]
    },
    {
     "name": "stdout",
     "output_type": "stream",
     "text": [
      "\rEpisode 555\tAverage Score: 10.80"
     ]
    },
    {
     "name": "stdout",
     "output_type": "stream",
     "text": [
      "\rEpisode 556\tAverage Score: 10.78"
     ]
    },
    {
     "name": "stdout",
     "output_type": "stream",
     "text": [
      "\rEpisode 557\tAverage Score: 10.80"
     ]
    },
    {
     "name": "stdout",
     "output_type": "stream",
     "text": [
      "\rEpisode 558\tAverage Score: 10.83"
     ]
    },
    {
     "name": "stdout",
     "output_type": "stream",
     "text": [
      "\rEpisode 559\tAverage Score: 10.90"
     ]
    },
    {
     "name": "stdout",
     "output_type": "stream",
     "text": [
      "\rEpisode 560\tAverage Score: 10.90"
     ]
    },
    {
     "name": "stdout",
     "output_type": "stream",
     "text": [
      "\rEpisode 561\tAverage Score: 10.96"
     ]
    },
    {
     "name": "stdout",
     "output_type": "stream",
     "text": [
      "\rEpisode 562\tAverage Score: 11.01"
     ]
    },
    {
     "name": "stdout",
     "output_type": "stream",
     "text": [
      "\rEpisode 563\tAverage Score: 11.09"
     ]
    },
    {
     "name": "stdout",
     "output_type": "stream",
     "text": [
      "\rEpisode 564\tAverage Score: 11.14"
     ]
    },
    {
     "name": "stdout",
     "output_type": "stream",
     "text": [
      "\rEpisode 565\tAverage Score: 11.08"
     ]
    },
    {
     "name": "stdout",
     "output_type": "stream",
     "text": [
      "\rEpisode 566\tAverage Score: 11.08"
     ]
    },
    {
     "name": "stdout",
     "output_type": "stream",
     "text": [
      "\rEpisode 567\tAverage Score: 10.98"
     ]
    },
    {
     "name": "stdout",
     "output_type": "stream",
     "text": [
      "\rEpisode 568\tAverage Score: 11.01"
     ]
    },
    {
     "name": "stdout",
     "output_type": "stream",
     "text": [
      "\rEpisode 569\tAverage Score: 11.02"
     ]
    },
    {
     "name": "stdout",
     "output_type": "stream",
     "text": [
      "\rEpisode 570\tAverage Score: 11.02"
     ]
    },
    {
     "name": "stdout",
     "output_type": "stream",
     "text": [
      "\rEpisode 571\tAverage Score: 11.00"
     ]
    },
    {
     "name": "stdout",
     "output_type": "stream",
     "text": [
      "\rEpisode 572\tAverage Score: 11.13"
     ]
    },
    {
     "name": "stdout",
     "output_type": "stream",
     "text": [
      "\rEpisode 573\tAverage Score: 11.19"
     ]
    },
    {
     "name": "stdout",
     "output_type": "stream",
     "text": [
      "\rEpisode 574\tAverage Score: 11.16"
     ]
    },
    {
     "name": "stdout",
     "output_type": "stream",
     "text": [
      "\rEpisode 575\tAverage Score: 11.19"
     ]
    },
    {
     "name": "stdout",
     "output_type": "stream",
     "text": [
      "\rEpisode 576\tAverage Score: 11.26"
     ]
    },
    {
     "name": "stdout",
     "output_type": "stream",
     "text": [
      "\rEpisode 577\tAverage Score: 11.30"
     ]
    },
    {
     "name": "stdout",
     "output_type": "stream",
     "text": [
      "\rEpisode 578\tAverage Score: 11.34"
     ]
    },
    {
     "name": "stdout",
     "output_type": "stream",
     "text": [
      "\rEpisode 579\tAverage Score: 11.29"
     ]
    },
    {
     "name": "stdout",
     "output_type": "stream",
     "text": [
      "\rEpisode 580\tAverage Score: 11.32"
     ]
    },
    {
     "name": "stdout",
     "output_type": "stream",
     "text": [
      "\rEpisode 581\tAverage Score: 11.31"
     ]
    },
    {
     "name": "stdout",
     "output_type": "stream",
     "text": [
      "\rEpisode 582\tAverage Score: 11.29"
     ]
    },
    {
     "name": "stdout",
     "output_type": "stream",
     "text": [
      "\rEpisode 583\tAverage Score: 11.30"
     ]
    },
    {
     "name": "stdout",
     "output_type": "stream",
     "text": [
      "\rEpisode 584\tAverage Score: 11.23"
     ]
    },
    {
     "name": "stdout",
     "output_type": "stream",
     "text": [
      "\rEpisode 585\tAverage Score: 11.14"
     ]
    },
    {
     "name": "stdout",
     "output_type": "stream",
     "text": [
      "\rEpisode 586\tAverage Score: 11.13"
     ]
    },
    {
     "name": "stdout",
     "output_type": "stream",
     "text": [
      "\rEpisode 587\tAverage Score: 11.18"
     ]
    },
    {
     "name": "stdout",
     "output_type": "stream",
     "text": [
      "\rEpisode 588\tAverage Score: 11.19"
     ]
    },
    {
     "name": "stdout",
     "output_type": "stream",
     "text": [
      "\rEpisode 589\tAverage Score: 11.15"
     ]
    },
    {
     "name": "stdout",
     "output_type": "stream",
     "text": [
      "\rEpisode 590\tAverage Score: 11.21"
     ]
    },
    {
     "name": "stdout",
     "output_type": "stream",
     "text": [
      "\rEpisode 591\tAverage Score: 11.33"
     ]
    },
    {
     "name": "stdout",
     "output_type": "stream",
     "text": [
      "\rEpisode 592\tAverage Score: 11.38"
     ]
    },
    {
     "name": "stdout",
     "output_type": "stream",
     "text": [
      "\rEpisode 593\tAverage Score: 11.35"
     ]
    },
    {
     "name": "stdout",
     "output_type": "stream",
     "text": [
      "\rEpisode 594\tAverage Score: 11.48"
     ]
    },
    {
     "name": "stdout",
     "output_type": "stream",
     "text": [
      "\rEpisode 595\tAverage Score: 11.46"
     ]
    },
    {
     "name": "stdout",
     "output_type": "stream",
     "text": [
      "\rEpisode 596\tAverage Score: 11.41"
     ]
    },
    {
     "name": "stdout",
     "output_type": "stream",
     "text": [
      "\rEpisode 597\tAverage Score: 11.35"
     ]
    },
    {
     "name": "stdout",
     "output_type": "stream",
     "text": [
      "\rEpisode 598\tAverage Score: 11.42"
     ]
    },
    {
     "name": "stdout",
     "output_type": "stream",
     "text": [
      "\rEpisode 599\tAverage Score: 11.43"
     ]
    },
    {
     "name": "stdout",
     "output_type": "stream",
     "text": [
      "\rEpisode 600\tAverage Score: 11.42\rEpisode 600\tAverage Score: 11.42\n"
     ]
    },
    {
     "name": "stdout",
     "output_type": "stream",
     "text": [
      "\rEpisode 601\tAverage Score: 11.45"
     ]
    },
    {
     "name": "stdout",
     "output_type": "stream",
     "text": [
      "\rEpisode 602\tAverage Score: 11.54"
     ]
    },
    {
     "name": "stdout",
     "output_type": "stream",
     "text": [
      "\rEpisode 603\tAverage Score: 11.53"
     ]
    },
    {
     "name": "stdout",
     "output_type": "stream",
     "text": [
      "\rEpisode 604\tAverage Score: 11.50"
     ]
    },
    {
     "name": "stdout",
     "output_type": "stream",
     "text": [
      "\rEpisode 605\tAverage Score: 11.50"
     ]
    },
    {
     "name": "stdout",
     "output_type": "stream",
     "text": [
      "\rEpisode 606\tAverage Score: 11.56"
     ]
    },
    {
     "name": "stdout",
     "output_type": "stream",
     "text": [
      "\rEpisode 607\tAverage Score: 11.47"
     ]
    },
    {
     "name": "stdout",
     "output_type": "stream",
     "text": [
      "\rEpisode 608\tAverage Score: 11.41"
     ]
    },
    {
     "name": "stdout",
     "output_type": "stream",
     "text": [
      "\rEpisode 609\tAverage Score: 11.49"
     ]
    },
    {
     "name": "stdout",
     "output_type": "stream",
     "text": [
      "\rEpisode 610\tAverage Score: 11.48"
     ]
    },
    {
     "name": "stdout",
     "output_type": "stream",
     "text": [
      "\rEpisode 611\tAverage Score: 11.49"
     ]
    },
    {
     "name": "stdout",
     "output_type": "stream",
     "text": [
      "\rEpisode 612\tAverage Score: 11.53"
     ]
    },
    {
     "name": "stdout",
     "output_type": "stream",
     "text": [
      "\rEpisode 613\tAverage Score: 11.54"
     ]
    },
    {
     "name": "stdout",
     "output_type": "stream",
     "text": [
      "\rEpisode 614\tAverage Score: 11.50"
     ]
    },
    {
     "name": "stdout",
     "output_type": "stream",
     "text": [
      "\rEpisode 615\tAverage Score: 11.56"
     ]
    },
    {
     "name": "stdout",
     "output_type": "stream",
     "text": [
      "\rEpisode 616\tAverage Score: 11.63"
     ]
    },
    {
     "name": "stdout",
     "output_type": "stream",
     "text": [
      "\rEpisode 617\tAverage Score: 11.65"
     ]
    },
    {
     "name": "stdout",
     "output_type": "stream",
     "text": [
      "\rEpisode 618\tAverage Score: 11.66"
     ]
    },
    {
     "name": "stdout",
     "output_type": "stream",
     "text": [
      "\rEpisode 619\tAverage Score: 11.64"
     ]
    },
    {
     "name": "stdout",
     "output_type": "stream",
     "text": [
      "\rEpisode 620\tAverage Score: 11.62"
     ]
    },
    {
     "name": "stdout",
     "output_type": "stream",
     "text": [
      "\rEpisode 621\tAverage Score: 11.67"
     ]
    },
    {
     "name": "stdout",
     "output_type": "stream",
     "text": [
      "\rEpisode 622\tAverage Score: 11.57"
     ]
    },
    {
     "name": "stdout",
     "output_type": "stream",
     "text": [
      "\rEpisode 623\tAverage Score: 11.54"
     ]
    },
    {
     "name": "stdout",
     "output_type": "stream",
     "text": [
      "\rEpisode 624\tAverage Score: 11.52"
     ]
    },
    {
     "name": "stdout",
     "output_type": "stream",
     "text": [
      "\rEpisode 625\tAverage Score: 11.52"
     ]
    },
    {
     "name": "stdout",
     "output_type": "stream",
     "text": [
      "\rEpisode 626\tAverage Score: 11.47"
     ]
    },
    {
     "name": "stdout",
     "output_type": "stream",
     "text": [
      "\rEpisode 627\tAverage Score: 11.43"
     ]
    },
    {
     "name": "stdout",
     "output_type": "stream",
     "text": [
      "\rEpisode 628\tAverage Score: 11.32"
     ]
    },
    {
     "name": "stdout",
     "output_type": "stream",
     "text": [
      "\rEpisode 629\tAverage Score: 11.34"
     ]
    },
    {
     "name": "stdout",
     "output_type": "stream",
     "text": [
      "\rEpisode 630\tAverage Score: 11.26"
     ]
    },
    {
     "name": "stdout",
     "output_type": "stream",
     "text": [
      "\rEpisode 631\tAverage Score: 11.27"
     ]
    },
    {
     "name": "stdout",
     "output_type": "stream",
     "text": [
      "\rEpisode 632\tAverage Score: 11.19"
     ]
    },
    {
     "name": "stdout",
     "output_type": "stream",
     "text": [
      "\rEpisode 633\tAverage Score: 11.17"
     ]
    },
    {
     "name": "stdout",
     "output_type": "stream",
     "text": [
      "\rEpisode 634\tAverage Score: 11.14"
     ]
    },
    {
     "name": "stdout",
     "output_type": "stream",
     "text": [
      "\rEpisode 635\tAverage Score: 11.17"
     ]
    },
    {
     "name": "stdout",
     "output_type": "stream",
     "text": [
      "\rEpisode 636\tAverage Score: 11.26"
     ]
    },
    {
     "name": "stdout",
     "output_type": "stream",
     "text": [
      "\rEpisode 637\tAverage Score: 11.20"
     ]
    },
    {
     "name": "stdout",
     "output_type": "stream",
     "text": [
      "\rEpisode 638\tAverage Score: 11.26"
     ]
    },
    {
     "name": "stdout",
     "output_type": "stream",
     "text": [
      "\rEpisode 639\tAverage Score: 11.32"
     ]
    },
    {
     "name": "stdout",
     "output_type": "stream",
     "text": [
      "\rEpisode 640\tAverage Score: 11.37"
     ]
    },
    {
     "name": "stdout",
     "output_type": "stream",
     "text": [
      "\rEpisode 641\tAverage Score: 11.39"
     ]
    },
    {
     "name": "stdout",
     "output_type": "stream",
     "text": [
      "\rEpisode 642\tAverage Score: 11.40"
     ]
    },
    {
     "name": "stdout",
     "output_type": "stream",
     "text": [
      "\rEpisode 643\tAverage Score: 11.38"
     ]
    },
    {
     "name": "stdout",
     "output_type": "stream",
     "text": [
      "\rEpisode 644\tAverage Score: 11.37"
     ]
    },
    {
     "name": "stdout",
     "output_type": "stream",
     "text": [
      "\rEpisode 645\tAverage Score: 11.35"
     ]
    },
    {
     "name": "stdout",
     "output_type": "stream",
     "text": [
      "\rEpisode 646\tAverage Score: 11.37"
     ]
    },
    {
     "name": "stdout",
     "output_type": "stream",
     "text": [
      "\rEpisode 647\tAverage Score: 11.36"
     ]
    },
    {
     "name": "stdout",
     "output_type": "stream",
     "text": [
      "\rEpisode 648\tAverage Score: 11.40"
     ]
    },
    {
     "name": "stdout",
     "output_type": "stream",
     "text": [
      "\rEpisode 649\tAverage Score: 11.38"
     ]
    },
    {
     "name": "stdout",
     "output_type": "stream",
     "text": [
      "\rEpisode 650\tAverage Score: 11.27"
     ]
    },
    {
     "name": "stdout",
     "output_type": "stream",
     "text": [
      "\rEpisode 651\tAverage Score: 11.28"
     ]
    },
    {
     "name": "stdout",
     "output_type": "stream",
     "text": [
      "\rEpisode 652\tAverage Score: 11.28"
     ]
    },
    {
     "name": "stdout",
     "output_type": "stream",
     "text": [
      "\rEpisode 653\tAverage Score: 11.34"
     ]
    },
    {
     "name": "stdout",
     "output_type": "stream",
     "text": [
      "\rEpisode 654\tAverage Score: 11.35"
     ]
    },
    {
     "name": "stdout",
     "output_type": "stream",
     "text": [
      "\rEpisode 655\tAverage Score: 11.28"
     ]
    },
    {
     "name": "stdout",
     "output_type": "stream",
     "text": [
      "\rEpisode 656\tAverage Score: 11.22"
     ]
    },
    {
     "name": "stdout",
     "output_type": "stream",
     "text": [
      "\rEpisode 657\tAverage Score: 11.23"
     ]
    },
    {
     "name": "stdout",
     "output_type": "stream",
     "text": [
      "\rEpisode 658\tAverage Score: 11.20"
     ]
    },
    {
     "name": "stdout",
     "output_type": "stream",
     "text": [
      "\rEpisode 659\tAverage Score: 11.09"
     ]
    },
    {
     "name": "stdout",
     "output_type": "stream",
     "text": [
      "\rEpisode 660\tAverage Score: 11.07"
     ]
    },
    {
     "name": "stdout",
     "output_type": "stream",
     "text": [
      "\rEpisode 661\tAverage Score: 11.09"
     ]
    },
    {
     "name": "stdout",
     "output_type": "stream",
     "text": [
      "\rEpisode 662\tAverage Score: 11.08"
     ]
    },
    {
     "name": "stdout",
     "output_type": "stream",
     "text": [
      "\rEpisode 663\tAverage Score: 11.00"
     ]
    },
    {
     "name": "stdout",
     "output_type": "stream",
     "text": [
      "\rEpisode 664\tAverage Score: 11.05"
     ]
    },
    {
     "name": "stdout",
     "output_type": "stream",
     "text": [
      "\rEpisode 665\tAverage Score: 11.06"
     ]
    },
    {
     "name": "stdout",
     "output_type": "stream",
     "text": [
      "\rEpisode 666\tAverage Score: 11.09"
     ]
    },
    {
     "name": "stdout",
     "output_type": "stream",
     "text": [
      "\rEpisode 667\tAverage Score: 11.16"
     ]
    },
    {
     "name": "stdout",
     "output_type": "stream",
     "text": [
      "\rEpisode 668\tAverage Score: 11.26"
     ]
    },
    {
     "name": "stdout",
     "output_type": "stream",
     "text": [
      "\rEpisode 669\tAverage Score: 11.19"
     ]
    },
    {
     "name": "stdout",
     "output_type": "stream",
     "text": [
      "\rEpisode 670\tAverage Score: 11.20"
     ]
    },
    {
     "name": "stdout",
     "output_type": "stream",
     "text": [
      "\rEpisode 671\tAverage Score: 11.19"
     ]
    },
    {
     "name": "stdout",
     "output_type": "stream",
     "text": [
      "\rEpisode 672\tAverage Score: 11.14"
     ]
    },
    {
     "name": "stdout",
     "output_type": "stream",
     "text": [
      "\rEpisode 673\tAverage Score: 11.04"
     ]
    },
    {
     "name": "stdout",
     "output_type": "stream",
     "text": [
      "\rEpisode 674\tAverage Score: 11.02"
     ]
    },
    {
     "name": "stdout",
     "output_type": "stream",
     "text": [
      "\rEpisode 675\tAverage Score: 10.96"
     ]
    },
    {
     "name": "stdout",
     "output_type": "stream",
     "text": [
      "\rEpisode 676\tAverage Score: 10.94"
     ]
    },
    {
     "name": "stdout",
     "output_type": "stream",
     "text": [
      "\rEpisode 677\tAverage Score: 10.92"
     ]
    },
    {
     "name": "stdout",
     "output_type": "stream",
     "text": [
      "\rEpisode 678\tAverage Score: 10.81"
     ]
    },
    {
     "name": "stdout",
     "output_type": "stream",
     "text": [
      "\rEpisode 679\tAverage Score: 10.81"
     ]
    },
    {
     "name": "stdout",
     "output_type": "stream",
     "text": [
      "\rEpisode 680\tAverage Score: 10.76"
     ]
    },
    {
     "name": "stdout",
     "output_type": "stream",
     "text": [
      "\rEpisode 681\tAverage Score: 10.77"
     ]
    },
    {
     "name": "stdout",
     "output_type": "stream",
     "text": [
      "\rEpisode 682\tAverage Score: 10.77"
     ]
    },
    {
     "name": "stdout",
     "output_type": "stream",
     "text": [
      "\rEpisode 683\tAverage Score: 10.67"
     ]
    },
    {
     "name": "stdout",
     "output_type": "stream",
     "text": [
      "\rEpisode 684\tAverage Score: 10.71"
     ]
    },
    {
     "name": "stdout",
     "output_type": "stream",
     "text": [
      "\rEpisode 685\tAverage Score: 10.82"
     ]
    },
    {
     "name": "stdout",
     "output_type": "stream",
     "text": [
      "\rEpisode 686\tAverage Score: 10.86"
     ]
    },
    {
     "name": "stdout",
     "output_type": "stream",
     "text": [
      "\rEpisode 687\tAverage Score: 10.95"
     ]
    },
    {
     "name": "stdout",
     "output_type": "stream",
     "text": [
      "\rEpisode 688\tAverage Score: 10.87"
     ]
    },
    {
     "name": "stdout",
     "output_type": "stream",
     "text": [
      "\rEpisode 689\tAverage Score: 10.90"
     ]
    },
    {
     "name": "stdout",
     "output_type": "stream",
     "text": [
      "\rEpisode 690\tAverage Score: 10.84"
     ]
    },
    {
     "name": "stdout",
     "output_type": "stream",
     "text": [
      "\rEpisode 691\tAverage Score: 10.83"
     ]
    },
    {
     "name": "stdout",
     "output_type": "stream",
     "text": [
      "\rEpisode 692\tAverage Score: 10.83"
     ]
    },
    {
     "name": "stdout",
     "output_type": "stream",
     "text": [
      "\rEpisode 693\tAverage Score: 10.83"
     ]
    },
    {
     "name": "stdout",
     "output_type": "stream",
     "text": [
      "\rEpisode 694\tAverage Score: 10.75"
     ]
    },
    {
     "name": "stdout",
     "output_type": "stream",
     "text": [
      "\rEpisode 695\tAverage Score: 10.78"
     ]
    },
    {
     "name": "stdout",
     "output_type": "stream",
     "text": [
      "\rEpisode 696\tAverage Score: 10.85"
     ]
    },
    {
     "name": "stdout",
     "output_type": "stream",
     "text": [
      "\rEpisode 697\tAverage Score: 10.85"
     ]
    },
    {
     "name": "stdout",
     "output_type": "stream",
     "text": [
      "\rEpisode 698\tAverage Score: 10.90"
     ]
    },
    {
     "name": "stdout",
     "output_type": "stream",
     "text": [
      "\rEpisode 699\tAverage Score: 10.93"
     ]
    },
    {
     "name": "stdout",
     "output_type": "stream",
     "text": [
      "\rEpisode 700\tAverage Score: 10.90\rEpisode 700\tAverage Score: 10.90\n"
     ]
    },
    {
     "name": "stdout",
     "output_type": "stream",
     "text": [
      "\rEpisode 701\tAverage Score: 10.76"
     ]
    },
    {
     "name": "stdout",
     "output_type": "stream",
     "text": [
      "\rEpisode 702\tAverage Score: 10.74"
     ]
    },
    {
     "name": "stdout",
     "output_type": "stream",
     "text": [
      "\rEpisode 703\tAverage Score: 10.73"
     ]
    },
    {
     "name": "stdout",
     "output_type": "stream",
     "text": [
      "\rEpisode 704\tAverage Score: 10.84"
     ]
    },
    {
     "name": "stdout",
     "output_type": "stream",
     "text": [
      "\rEpisode 705\tAverage Score: 10.78"
     ]
    },
    {
     "name": "stdout",
     "output_type": "stream",
     "text": [
      "\rEpisode 706\tAverage Score: 10.73"
     ]
    },
    {
     "name": "stdout",
     "output_type": "stream",
     "text": [
      "\rEpisode 707\tAverage Score: 10.84"
     ]
    },
    {
     "name": "stdout",
     "output_type": "stream",
     "text": [
      "\rEpisode 708\tAverage Score: 10.83"
     ]
    },
    {
     "name": "stdout",
     "output_type": "stream",
     "text": [
      "\rEpisode 709\tAverage Score: 10.82"
     ]
    },
    {
     "name": "stdout",
     "output_type": "stream",
     "text": [
      "\rEpisode 710\tAverage Score: 10.76"
     ]
    },
    {
     "name": "stdout",
     "output_type": "stream",
     "text": [
      "\rEpisode 711\tAverage Score: 10.75"
     ]
    },
    {
     "name": "stdout",
     "output_type": "stream",
     "text": [
      "\rEpisode 712\tAverage Score: 10.65"
     ]
    },
    {
     "name": "stdout",
     "output_type": "stream",
     "text": [
      "\rEpisode 713\tAverage Score: 10.69"
     ]
    },
    {
     "name": "stdout",
     "output_type": "stream",
     "text": [
      "\rEpisode 714\tAverage Score: 10.70"
     ]
    },
    {
     "name": "stdout",
     "output_type": "stream",
     "text": [
      "\rEpisode 715\tAverage Score: 10.69"
     ]
    },
    {
     "name": "stdout",
     "output_type": "stream",
     "text": [
      "\rEpisode 716\tAverage Score: 10.61"
     ]
    },
    {
     "name": "stdout",
     "output_type": "stream",
     "text": [
      "\rEpisode 717\tAverage Score: 10.55"
     ]
    },
    {
     "name": "stdout",
     "output_type": "stream",
     "text": [
      "\rEpisode 718\tAverage Score: 10.52"
     ]
    },
    {
     "name": "stdout",
     "output_type": "stream",
     "text": [
      "\rEpisode 719\tAverage Score: 10.57"
     ]
    },
    {
     "name": "stdout",
     "output_type": "stream",
     "text": [
      "\rEpisode 720\tAverage Score: 10.62"
     ]
    },
    {
     "name": "stdout",
     "output_type": "stream",
     "text": [
      "\rEpisode 721\tAverage Score: 10.57"
     ]
    },
    {
     "name": "stdout",
     "output_type": "stream",
     "text": [
      "\rEpisode 722\tAverage Score: 10.61"
     ]
    },
    {
     "name": "stdout",
     "output_type": "stream",
     "text": [
      "\rEpisode 723\tAverage Score: 10.59"
     ]
    },
    {
     "name": "stdout",
     "output_type": "stream",
     "text": [
      "\rEpisode 724\tAverage Score: 10.59"
     ]
    },
    {
     "name": "stdout",
     "output_type": "stream",
     "text": [
      "\rEpisode 725\tAverage Score: 10.60"
     ]
    },
    {
     "name": "stdout",
     "output_type": "stream",
     "text": [
      "\rEpisode 726\tAverage Score: 10.63"
     ]
    },
    {
     "name": "stdout",
     "output_type": "stream",
     "text": [
      "\rEpisode 727\tAverage Score: 10.66"
     ]
    },
    {
     "name": "stdout",
     "output_type": "stream",
     "text": [
      "\rEpisode 728\tAverage Score: 10.72"
     ]
    },
    {
     "name": "stdout",
     "output_type": "stream",
     "text": [
      "\rEpisode 729\tAverage Score: 10.78"
     ]
    },
    {
     "name": "stdout",
     "output_type": "stream",
     "text": [
      "\rEpisode 730\tAverage Score: 10.78"
     ]
    },
    {
     "name": "stdout",
     "output_type": "stream",
     "text": [
      "\rEpisode 731\tAverage Score: 10.73"
     ]
    },
    {
     "name": "stdout",
     "output_type": "stream",
     "text": [
      "\rEpisode 732\tAverage Score: 10.82"
     ]
    },
    {
     "name": "stdout",
     "output_type": "stream",
     "text": [
      "\rEpisode 733\tAverage Score: 10.89"
     ]
    },
    {
     "name": "stdout",
     "output_type": "stream",
     "text": [
      "\rEpisode 734\tAverage Score: 10.93"
     ]
    },
    {
     "name": "stdout",
     "output_type": "stream",
     "text": [
      "\rEpisode 735\tAverage Score: 10.87"
     ]
    },
    {
     "name": "stdout",
     "output_type": "stream",
     "text": [
      "\rEpisode 736\tAverage Score: 10.81"
     ]
    },
    {
     "name": "stdout",
     "output_type": "stream",
     "text": [
      "\rEpisode 737\tAverage Score: 10.87"
     ]
    },
    {
     "name": "stdout",
     "output_type": "stream",
     "text": [
      "\rEpisode 738\tAverage Score: 10.90"
     ]
    },
    {
     "name": "stdout",
     "output_type": "stream",
     "text": [
      "\rEpisode 739\tAverage Score: 10.89"
     ]
    },
    {
     "name": "stdout",
     "output_type": "stream",
     "text": [
      "\rEpisode 740\tAverage Score: 10.98"
     ]
    },
    {
     "name": "stdout",
     "output_type": "stream",
     "text": [
      "\rEpisode 741\tAverage Score: 11.06"
     ]
    },
    {
     "name": "stdout",
     "output_type": "stream",
     "text": [
      "\rEpisode 742\tAverage Score: 11.05"
     ]
    },
    {
     "name": "stdout",
     "output_type": "stream",
     "text": [
      "\rEpisode 743\tAverage Score: 11.08"
     ]
    },
    {
     "name": "stdout",
     "output_type": "stream",
     "text": [
      "\rEpisode 744\tAverage Score: 11.13"
     ]
    },
    {
     "name": "stdout",
     "output_type": "stream",
     "text": [
      "\rEpisode 745\tAverage Score: 11.22"
     ]
    },
    {
     "name": "stdout",
     "output_type": "stream",
     "text": [
      "\rEpisode 746\tAverage Score: 11.25"
     ]
    },
    {
     "name": "stdout",
     "output_type": "stream",
     "text": [
      "\rEpisode 747\tAverage Score: 11.24"
     ]
    },
    {
     "name": "stdout",
     "output_type": "stream",
     "text": [
      "\rEpisode 748\tAverage Score: 11.20"
     ]
    },
    {
     "name": "stdout",
     "output_type": "stream",
     "text": [
      "\rEpisode 749\tAverage Score: 11.27"
     ]
    },
    {
     "name": "stdout",
     "output_type": "stream",
     "text": [
      "\rEpisode 750\tAverage Score: 11.33"
     ]
    },
    {
     "name": "stdout",
     "output_type": "stream",
     "text": [
      "\rEpisode 751\tAverage Score: 11.38"
     ]
    },
    {
     "name": "stdout",
     "output_type": "stream",
     "text": [
      "\rEpisode 752\tAverage Score: 11.41"
     ]
    },
    {
     "name": "stdout",
     "output_type": "stream",
     "text": [
      "\rEpisode 753\tAverage Score: 11.38"
     ]
    },
    {
     "name": "stdout",
     "output_type": "stream",
     "text": [
      "\rEpisode 754\tAverage Score: 11.46"
     ]
    },
    {
     "name": "stdout",
     "output_type": "stream",
     "text": [
      "\rEpisode 755\tAverage Score: 11.51"
     ]
    },
    {
     "name": "stdout",
     "output_type": "stream",
     "text": [
      "\rEpisode 756\tAverage Score: 11.59"
     ]
    },
    {
     "name": "stdout",
     "output_type": "stream",
     "text": [
      "\rEpisode 757\tAverage Score: 11.55"
     ]
    },
    {
     "name": "stdout",
     "output_type": "stream",
     "text": [
      "\rEpisode 758\tAverage Score: 11.60"
     ]
    },
    {
     "name": "stdout",
     "output_type": "stream",
     "text": [
      "\rEpisode 759\tAverage Score: 11.68"
     ]
    },
    {
     "name": "stdout",
     "output_type": "stream",
     "text": [
      "\rEpisode 760\tAverage Score: 11.77"
     ]
    },
    {
     "name": "stdout",
     "output_type": "stream",
     "text": [
      "\rEpisode 761\tAverage Score: 11.75"
     ]
    },
    {
     "name": "stdout",
     "output_type": "stream",
     "text": [
      "\rEpisode 762\tAverage Score: 11.80"
     ]
    },
    {
     "name": "stdout",
     "output_type": "stream",
     "text": [
      "\rEpisode 763\tAverage Score: 11.94"
     ]
    },
    {
     "name": "stdout",
     "output_type": "stream",
     "text": [
      "\rEpisode 764\tAverage Score: 11.87"
     ]
    },
    {
     "name": "stdout",
     "output_type": "stream",
     "text": [
      "\rEpisode 765\tAverage Score: 11.85"
     ]
    },
    {
     "name": "stdout",
     "output_type": "stream",
     "text": [
      "\rEpisode 766\tAverage Score: 11.90"
     ]
    },
    {
     "name": "stdout",
     "output_type": "stream",
     "text": [
      "\rEpisode 767\tAverage Score: 11.92"
     ]
    },
    {
     "name": "stdout",
     "output_type": "stream",
     "text": [
      "\rEpisode 768\tAverage Score: 11.84"
     ]
    },
    {
     "name": "stdout",
     "output_type": "stream",
     "text": [
      "\rEpisode 769\tAverage Score: 11.93"
     ]
    },
    {
     "name": "stdout",
     "output_type": "stream",
     "text": [
      "\rEpisode 770\tAverage Score: 12.06"
     ]
    },
    {
     "name": "stdout",
     "output_type": "stream",
     "text": [
      "\rEpisode 771\tAverage Score: 12.03"
     ]
    },
    {
     "name": "stdout",
     "output_type": "stream",
     "text": [
      "\rEpisode 772\tAverage Score: 12.12"
     ]
    },
    {
     "name": "stdout",
     "output_type": "stream",
     "text": [
      "\rEpisode 773\tAverage Score: 12.20"
     ]
    },
    {
     "name": "stdout",
     "output_type": "stream",
     "text": [
      "\rEpisode 774\tAverage Score: 12.26"
     ]
    },
    {
     "name": "stdout",
     "output_type": "stream",
     "text": [
      "\rEpisode 775\tAverage Score: 12.38"
     ]
    },
    {
     "name": "stdout",
     "output_type": "stream",
     "text": [
      "\rEpisode 776\tAverage Score: 12.41"
     ]
    },
    {
     "name": "stdout",
     "output_type": "stream",
     "text": [
      "\rEpisode 777\tAverage Score: 12.42"
     ]
    },
    {
     "name": "stdout",
     "output_type": "stream",
     "text": [
      "\rEpisode 778\tAverage Score: 12.58"
     ]
    },
    {
     "name": "stdout",
     "output_type": "stream",
     "text": [
      "\rEpisode 779\tAverage Score: 12.57"
     ]
    },
    {
     "name": "stdout",
     "output_type": "stream",
     "text": [
      "\rEpisode 780\tAverage Score: 12.69"
     ]
    },
    {
     "name": "stdout",
     "output_type": "stream",
     "text": [
      "\rEpisode 781\tAverage Score: 12.78"
     ]
    },
    {
     "name": "stdout",
     "output_type": "stream",
     "text": [
      "\rEpisode 782\tAverage Score: 12.74"
     ]
    },
    {
     "name": "stdout",
     "output_type": "stream",
     "text": [
      "\rEpisode 783\tAverage Score: 12.73"
     ]
    },
    {
     "name": "stdout",
     "output_type": "stream",
     "text": [
      "\rEpisode 784\tAverage Score: 12.62"
     ]
    },
    {
     "name": "stdout",
     "output_type": "stream",
     "text": [
      "\rEpisode 785\tAverage Score: 12.66"
     ]
    },
    {
     "name": "stdout",
     "output_type": "stream",
     "text": [
      "\rEpisode 786\tAverage Score: 12.65"
     ]
    },
    {
     "name": "stdout",
     "output_type": "stream",
     "text": [
      "\rEpisode 787\tAverage Score: 12.54"
     ]
    },
    {
     "name": "stdout",
     "output_type": "stream",
     "text": [
      "\rEpisode 788\tAverage Score: 12.62"
     ]
    },
    {
     "name": "stdout",
     "output_type": "stream",
     "text": [
      "\rEpisode 789\tAverage Score: 12.55"
     ]
    },
    {
     "name": "stdout",
     "output_type": "stream",
     "text": [
      "\rEpisode 790\tAverage Score: 12.58"
     ]
    },
    {
     "name": "stdout",
     "output_type": "stream",
     "text": [
      "\rEpisode 791\tAverage Score: 12.58"
     ]
    },
    {
     "name": "stdout",
     "output_type": "stream",
     "text": [
      "\rEpisode 792\tAverage Score: 12.60"
     ]
    },
    {
     "name": "stdout",
     "output_type": "stream",
     "text": [
      "\rEpisode 793\tAverage Score: 12.63"
     ]
    },
    {
     "name": "stdout",
     "output_type": "stream",
     "text": [
      "\rEpisode 794\tAverage Score: 12.59"
     ]
    },
    {
     "name": "stdout",
     "output_type": "stream",
     "text": [
      "\rEpisode 795\tAverage Score: 12.57"
     ]
    },
    {
     "name": "stdout",
     "output_type": "stream",
     "text": [
      "\rEpisode 796\tAverage Score: 12.48"
     ]
    },
    {
     "name": "stdout",
     "output_type": "stream",
     "text": [
      "\rEpisode 797\tAverage Score: 12.54"
     ]
    },
    {
     "name": "stdout",
     "output_type": "stream",
     "text": [
      "\rEpisode 798\tAverage Score: 12.41"
     ]
    },
    {
     "name": "stdout",
     "output_type": "stream",
     "text": [
      "\rEpisode 799\tAverage Score: 12.42"
     ]
    },
    {
     "name": "stdout",
     "output_type": "stream",
     "text": [
      "\rEpisode 800\tAverage Score: 12.46\rEpisode 800\tAverage Score: 12.46\n"
     ]
    },
    {
     "name": "stdout",
     "output_type": "stream",
     "text": [
      "\rEpisode 801\tAverage Score: 12.43"
     ]
    },
    {
     "name": "stdout",
     "output_type": "stream",
     "text": [
      "\rEpisode 802\tAverage Score: 12.39"
     ]
    },
    {
     "name": "stdout",
     "output_type": "stream",
     "text": [
      "\rEpisode 803\tAverage Score: 12.45"
     ]
    },
    {
     "name": "stdout",
     "output_type": "stream",
     "text": [
      "\rEpisode 804\tAverage Score: 12.36"
     ]
    },
    {
     "name": "stdout",
     "output_type": "stream",
     "text": [
      "\rEpisode 805\tAverage Score: 12.44"
     ]
    },
    {
     "name": "stdout",
     "output_type": "stream",
     "text": [
      "\rEpisode 806\tAverage Score: 12.38"
     ]
    },
    {
     "name": "stdout",
     "output_type": "stream",
     "text": [
      "\rEpisode 807\tAverage Score: 12.38"
     ]
    },
    {
     "name": "stdout",
     "output_type": "stream",
     "text": [
      "\rEpisode 808\tAverage Score: 12.47"
     ]
    },
    {
     "name": "stdout",
     "output_type": "stream",
     "text": [
      "\rEpisode 809\tAverage Score: 12.36"
     ]
    },
    {
     "name": "stdout",
     "output_type": "stream",
     "text": [
      "\rEpisode 810\tAverage Score: 12.45"
     ]
    },
    {
     "name": "stdout",
     "output_type": "stream",
     "text": [
      "\rEpisode 811\tAverage Score: 12.41"
     ]
    },
    {
     "name": "stdout",
     "output_type": "stream",
     "text": [
      "\rEpisode 812\tAverage Score: 12.45"
     ]
    },
    {
     "name": "stdout",
     "output_type": "stream",
     "text": [
      "\rEpisode 813\tAverage Score: 12.43"
     ]
    },
    {
     "name": "stdout",
     "output_type": "stream",
     "text": [
      "\rEpisode 814\tAverage Score: 12.44"
     ]
    },
    {
     "name": "stdout",
     "output_type": "stream",
     "text": [
      "\rEpisode 815\tAverage Score: 12.39"
     ]
    },
    {
     "name": "stdout",
     "output_type": "stream",
     "text": [
      "\rEpisode 816\tAverage Score: 12.40"
     ]
    },
    {
     "name": "stdout",
     "output_type": "stream",
     "text": [
      "\rEpisode 817\tAverage Score: 12.48"
     ]
    },
    {
     "name": "stdout",
     "output_type": "stream",
     "text": [
      "\rEpisode 818\tAverage Score: 12.53"
     ]
    },
    {
     "name": "stdout",
     "output_type": "stream",
     "text": [
      "\rEpisode 819\tAverage Score: 12.61"
     ]
    },
    {
     "name": "stdout",
     "output_type": "stream",
     "text": [
      "\rEpisode 820\tAverage Score: 12.54"
     ]
    },
    {
     "name": "stdout",
     "output_type": "stream",
     "text": [
      "\rEpisode 821\tAverage Score: 12.58"
     ]
    },
    {
     "name": "stdout",
     "output_type": "stream",
     "text": [
      "\rEpisode 822\tAverage Score: 12.66"
     ]
    },
    {
     "name": "stdout",
     "output_type": "stream",
     "text": [
      "\rEpisode 823\tAverage Score: 12.75"
     ]
    },
    {
     "name": "stdout",
     "output_type": "stream",
     "text": [
      "\rEpisode 824\tAverage Score: 12.79"
     ]
    },
    {
     "name": "stdout",
     "output_type": "stream",
     "text": [
      "\rEpisode 825\tAverage Score: 12.83"
     ]
    },
    {
     "name": "stdout",
     "output_type": "stream",
     "text": [
      "\rEpisode 826\tAverage Score: 12.85"
     ]
    },
    {
     "name": "stdout",
     "output_type": "stream",
     "text": [
      "\rEpisode 827\tAverage Score: 12.89"
     ]
    },
    {
     "name": "stdout",
     "output_type": "stream",
     "text": [
      "\rEpisode 828\tAverage Score: 12.96"
     ]
    },
    {
     "name": "stdout",
     "output_type": "stream",
     "text": [
      "\rEpisode 829\tAverage Score: 12.92"
     ]
    },
    {
     "name": "stdout",
     "output_type": "stream",
     "text": [
      "\rEpisode 830\tAverage Score: 13.00\nEnvironment solved in 830 episodes!\tAverage Score: 13.00\n"
     ]
    }
   ],
   "source": [
    "import torch\n",
    "\n",
    "def dqn(brain_name, n_episodes=5000, eps_start=1.0, eps_end=0.01, eps_decay=0.995):\n",
    "    \"\"\"Deep Q-Learning.\n",
    "    \n",
    "    Params\n",
    "    ======\n",
    "        n_episodes (int): maximum number of training episodes\n",
    "        max_t (int): maximum number of timesteps per episode\n",
    "        eps_start (float): starting value of epsilon, for epsilon-greedy action selection\n",
    "        eps_end (float): minimum value of epsilon\n",
    "        eps_decay (float): multiplicative factor (per episode) for decreasing epsilon\n",
    "    \"\"\"\n",
    "    scores = []                        # list containing scores from each episode\n",
    "    scores_window = deque(maxlen=100)  # last 100 scores\n",
    "    eps = eps_start                    # initialize epsilon\n",
    "    for i_episode in range(1, n_episodes+1):\n",
    "        state = env.reset(train_mode=True)[brain_name].vector_observations[0]\n",
    "        score = 0\n",
    "        while True:\n",
    "            action = agent.act(state, eps)       # select an action\n",
    "            env_info = env.step(action)[brain_name]        # send the action to the environment\n",
    "            next_state = env_info.vector_observations[0]   # get the next state\n",
    "            reward = env_info.rewards[0]                   # get the reward\n",
    "            done = env_info.local_done[0]                  # see if episode has finished\n",
    "            agent.step(state,action,reward,next_state,done)\n",
    "            state = next_state\n",
    "            score += reward\n",
    "            if done:\n",
    "                break \n",
    "        scores_window.append(score)       # save most recent score\n",
    "        scores.append(score)              # s|ave most recent score\n",
    "        eps = max(eps_end, eps_decay*eps) # decrease epsilon\n",
    "        print('\\rEpisode {}\\tAverage Score: {:.2f}'.format(i_episode, np.mean(scores_window)), end=\"\")\n",
    "        if i_episode % 100 == 0:\n",
    "            print('\\rEpisode {}\\tAverage Score: {:.2f}'.format(i_episode, np.mean(scores_window)))\n",
    "        if np.mean(scores_window)>=13.0:\n",
    "            break\n",
    "    print('\\nEnvironment solved in {:d} episodes!\\tAverage Score: {:.2f}'.format(i_episode, np.mean(scores_window)))\n",
    "    torch.save(agent.qnetwork_local.state_dict(), 'model.pth')\n",
    "    return scores\n",
    "\n",
    "scores = dqn(brain_name, n_episodes=2000)\n"
   ]
  },
  {
   "cell_type": "code",
   "execution_count": 8,
   "metadata": {
    "collapsed": true
   },
   "outputs": [
    {
     "data": {
      "image/png": "[encoded data removed]",
      "text/plain": [
       "<Figure size 432x288 with 1 Axes>"
      ]
     },
     "metadata": {},
     "output_type": "display_data"
    }
   ],
   "source": [
    "# plot the scores\n",
    "def movingaverage (values, window):\n",
    "    weights = np.repeat(1.0, window)/window\n",
    "    sma = np.convolve(values, weights, 'valid')\n",
    "    return sma\n",
    "\n",
    "ma_scores = movingaverage(scores, 100)\n",
    "\n",
    "fig = plt.figure()\n",
    "ax = fig.add_subplot(111)\n",
    "plt.plot(np.arange(len(scores)), scores)\n",
    "plt.plot(np.arange(len(ma_scores))+100, ma_scores)\n",
    "plt.plot([0, len(scores)], [13, 13])\n",
    "plt.ylabel('Score')\n",
    "plt.xlabel('Episode #')\n",
    "plt.savefig(\"scores.png\")\n",
    "plt.show()\n",
    "    \n",
    "    "
   ]
  },
  {
   "cell_type": "code",
   "execution_count": 9,
   "metadata": {},
   "outputs": [
    {
     "name": "stdout",
     "output_type": "stream",
     "text": [
      "Score: 6.0\n"
     ]
    }
   ],
   "source": [
    "env_info = env.reset(train_mode=False)[brain_name] # reset the environment\n",
    "state = env_info.vector_observations[0]            # get the current state\n",
    "score = 0                                          # initialize the score\n",
    "while True:\n",
    "    action = agent.act(state, 0)                   # select an action\n",
    "    env_info = env.step(action)[brain_name]        # send the action to the environment\n",
    "    next_state = env_info.vector_observations[0]   # get the next state\n",
    "    reward = env_info.rewards[0]                   # get the reward\n",
    "    done = env_info.local_done[0]                  # see if episode has finished\n",
    "    score += reward                                # update the score\n",
    "    state = next_state                             # roll over the state to next time step\n",
    "    if done:                                       # exit loop if episode finished\n",
    "        break\n",
    "    \n",
    "print(\"Score: {}\".format(score))"
   ]
  },
  {
   "cell_type": "markdown",
   "metadata": {},
   "source": [
    "When finished, you can close the environment."
   ]
  },
  {
   "cell_type": "code",
   "execution_count": 10,
   "metadata": {},
   "outputs": [],
   "source": [
    "env.close()"
   ]
  },
  {
   "cell_type": "markdown",
   "metadata": {},
   "source": [
    "### 4. It's Your Turn!\n",
    "\n",
    "Now it's your turn to train your own agent to solve the environment!  When training the environment, set `train_mode=True`, so that the line for resetting the environment looks like the following:\n",
    "```python\n",
    "env_info = env.reset(train_mode=True)[brain_name]\n",
    "```"
   ]
  }
 ],
 "metadata": {
  "kernelspec": {
   "display_name": "Python 3",
   "language": "python",
   "name": "python3"
  },
  "language_info": {
   "codemirror_mode": {
    "name": "ipython",
    "version": 3
   },
   "file_extension": ".py",
   "mimetype": "text/x-python",
   "name": "python",
   "nbconvert_exporter": "python",
   "pygments_lexer": "ipython3",
   "version": "3.6.4"
  }
 },
 "nbformat": 4,
 "nbformat_minor": 2
}
